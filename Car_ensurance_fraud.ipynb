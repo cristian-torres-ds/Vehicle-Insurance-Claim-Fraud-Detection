{
 "cells": [
  {
   "cell_type": "markdown",
   "id": "291389ea",
   "metadata": {
    "tags": []
   },
   "source": [
    "# Vehicle Insurance Claim Fraud Detection.\n",
    "Torres Cristian Gabriel\n",
    "\n",
    "Este es un trabajo práctico que para un curso de Ciencia de Datos, así que está hecho siguiendo algunos criterios, pero en fin es un trabajo bastante completo, con algunos buenos ejemplos que pueden servir para estudiar.\n",
    "Mi idioma nativo es el español, pero voy a tratar de explicar todos los pasos tanto en español como en inglés.\n",
    "Espero les sea útil.\n",
    "\n",
    "This is an study proyect for a Data Science course, so it was done following some criteria, anyway, it's quite a complete work, with some nice code examples that can be helpful to study.\n",
    "My native language is spanish, but I will try to explain all the steps in inglish too.\n",
    "I hope it ends up useful."
   ]
  },
  {
   "cell_type": "markdown",
   "id": "dab531b9",
   "metadata": {},
   "source": [
    "Dataset:\n",
    "\n",
    "Aparentemente es una base de datos real, de una aseguradora de USA, liberada por Oracle para dar clases, sobre detección de fraude en seguros de vehículos.\n",
    "El fraude de seguros de vehículos implica conspirar para hacer reclamos falsos o exagerados que involucren daños a la propiedad o lesiones personales después de un accidente. Algunos ejemplos comunes incluyen accidentes simulados en los que los estafadores “arreglan” deliberadamente que ocurran accidentes; el uso de pasajeros fantasmas cuando las personas que ni siquiera estaban en la escena del accidente afirman haber sufrido lesiones graves, y hacer reclamos falsos por lesiones personales donde las lesiones personales son extremadamente exageradas.\n",
    "\n",
    "Apparently it's a real database of an American insurance company, liberated by Oracle for teaching purposes.\n",
    "Vehicle insurance fraud involves conspiring to make false or exaggerated claims involving property damage or personal injuries following an accident. Some common examples include staged accidents where fraudsters deliberately “arrange” for accidents to occur; the use of phantom passengers where people who were not even at the scene of the accident claim to have suffered grievous injury, and make false personal injury claims where personal injuries are grossly exaggerated."
   ]
  },
  {
   "cell_type": "markdown",
   "id": "4b665017",
   "metadata": {},
   "source": [
    "Nuestro objetivo es poder clasificar si los casos son fraudes o no, para no tener un equipo de especialistas analizando todos y cada uno de los casos.\n",
    "\n",
    "Our objertive is to classify claims as fraud or legit, so we don't have to waste lots of resources, by assigning specialists to analyze every claim."
   ]
  },
  {
   "cell_type": "markdown",
   "id": "23175716",
   "metadata": {},
   "source": [
    "Columnas (Columns):\n",
    "* 00) Month: mes en el que ocurrió el accidente. (Month in which the accident occured)\n",
    "* 01) WeekOfMonth: semana en la que ocurrió el accidente. (Week in the month of accident)\n",
    "* 02) DayOfWeek: Día de la semana en que ocurrió el accidente. (Day of the week of the accident)\n",
    "* 03) Make: Marca del vehículo. (Car maker)\n",
    "* 04) AccidentArea: Si el accidente fue en un área rural o urbana. (Accident occured in rural or urban area)\n",
    "* 05) DayOfWeekClaimed: Día de la semana en la que se hizo la denuncia, \"controlar ceros\". (Day of the week the accident was claimed, \"control zeros\")\n",
    "* 06) MonthClaimed: Mes en el que se hizo la denuncia, \"controlar ceros\". (Month the accident was claimed, \"control zeros\")\n",
    "* 07) WeekOfMonthClaimed: Número de semana del mes en la que se hizo la denuncia. (Week in the month of accident)\n",
    "* 08) Sex: Género de la persona que realiza la denuncia. (Gender of the person involved in the accident)\n",
    "* 09) MaritalStatus: Estado cívil de la persona que hace la denuncia. (Marital status of the person involved in the accident)\n",
    "* 10) Age: Edad de la persona que hace la denuncia. (Age of the person involved in the accident)\n",
    "* 11) Fault: Si el culpable fue el dueño del seguro u otro involucrado. (If the insurance owner was responsable of the accident)\n",
    "* 12) PolicyType: Combinación de tipo de auto y de tipo de póliza: Liability (contra terceros), Collision (Incluye daños al vehículo del propietario), All Perils (contra todo riesgo). (Combination between Vehicle Category and Base Policy)\n",
    "* 13) VehicleCatergory: Clasificación de tipo de auto. (Vehicle categorization)\n",
    "* 14) VehiclePrice: Precio del vehículo. (Price of the vehicle)\n",
    "* 15) FraudFound_P: Si el incidente fue fraudulento o no, columna a predecir. (If the claim is fraudulent, this is the variable to predict)\n",
    "* 16) PolicyNumber: Número único de accidente, coincide con el número de filas del dataset. (Unique number of each entry)\n",
    "* 17) RepNumber: Numeración entre 1 y 16. (Enumeration between 1 and 16)\n",
    "* 18) Deductible: Costo del seguro. (Ensurance cost)\n",
    "* 19) DriverRating: Calificación del piloto, puede ser data ordinal. (This driver rating might be ordinal)\n",
    "* 20) Days_Policy_Accident: Rango adquisición del seguro y suceso del accidente. (Days between ensurance is acquired and the accident occured)\n",
    "* 21) Days_Policy_Claim: Rango entre adquisición del seguro y denuncia del accidente. (Days between ensurance is acquired and the accident was claimed)\n",
    "* 22) PastNumberOfClaims: Cantidad de denuncias anteriores realizadas por el dueño del vehículo. (Number of past claims of the ensurance owner)\n",
    "* 23) AgeOfVehicle: Edad del vehículo.\n",
    "* 24) AgeOfPolicyHolder: Edad del dueño del seguro.\n",
    "* 25) PoliceReportFiled: Si fue denunciado a la policía. (If the accident was reported to the police)\n",
    "* 26) WitnessPresent: Si hay testigos.\n",
    "* 27) AgentType: Internos son cuando el fraude es realizado por personas trabajando en la empresa de seguros. (Internal fraud are those perpetrated against an insurance company or its policyholders by insurance agents, managers, executives, or other insurance employees)\n",
    "Externos son los fraudes en los que el seguro es engañado por personas independientes (External fraud schemes are direct against an insurance company by individuals or entities as diverse as policyholders, medical providers, beneficiaries, vendors, chiropractors and career criminals)\n",
    "* 28) NumberOfSuppliments: (Debería ser Supplements) Son daños al vehículo no registrados a la hora de la denuncia, daños extras que no se ven por el exterior, normalmente roturas en componentes internos como suspensión, chasis, etc. (Supplements are non registered damages in the car, beacause they are not easily visible, usually internal components like suspension, chasis, etc.)\n",
    "* 29) AddressChange_Claim: Si el dueño del seguro se mudó después de denunciar un accidente y cuanto tiempo después. (If the ensurance owner has changed address after the claim)\n",
    "* 30) NumberOfCars: Número de autos involucrados en el accidente. (Number of cars involved in the accident)\n",
    "* 31) Year: Año en el que ocurrió el accidente.\n",
    "* 32) BasePolicy: Tipo de seguro, igual a PolicyType. (Tipe of ensurance)"
   ]
  },
  {
   "cell_type": "code",
   "execution_count": 39,
   "id": "7d88bf55",
   "metadata": {},
   "outputs": [],
   "source": [
    "import warnings\n",
    "warnings.filterwarnings('ignore')\n",
    "\n",
    "import pandas as pd\n",
    "import numpy as np\n",
    "import matplotlib.pyplot as plt \n",
    "import seaborn as sns\n",
    "from sklearn.preprocessing import StandardScaler\n",
    "from sklearn.model_selection import train_test_split, StratifiedKFold, GridSearchCV\n",
    "from sklearn.ensemble import GradientBoostingClassifier\n",
    "from xgboost.sklearn import XGBClassifier\n",
    "import lightgbm as lgb\n",
    "from imblearn.over_sampling import RandomOverSampler\n",
    "from sklearn.metrics import roc_curve, confusion_matrix, roc_auc_score, precision_recall_curve\n",
    "from sklearn.pipeline import Pipeline"
   ]
  },
  {
   "cell_type": "markdown",
   "id": "2ba445f3",
   "metadata": {},
   "source": [
    "---\n",
    "## Análisis Exploratorio (Exploratory Analysis)"
   ]
  },
  {
   "cell_type": "code",
   "execution_count": 40,
   "id": "19e25038",
   "metadata": {},
   "outputs": [],
   "source": [
    "df = pd.read_csv('fraud_oracle.csv')"
   ]
  },
  {
   "cell_type": "code",
   "execution_count": 41,
   "id": "a920a0fc",
   "metadata": {},
   "outputs": [
    {
     "data": {
      "text/html": [
       "<div>\n",
       "<style scoped>\n",
       "    .dataframe tbody tr th:only-of-type {\n",
       "        vertical-align: middle;\n",
       "    }\n",
       "\n",
       "    .dataframe tbody tr th {\n",
       "        vertical-align: top;\n",
       "    }\n",
       "\n",
       "    .dataframe thead th {\n",
       "        text-align: right;\n",
       "    }\n",
       "</style>\n",
       "<table border=\"1\" class=\"dataframe\">\n",
       "  <thead>\n",
       "    <tr style=\"text-align: right;\">\n",
       "      <th></th>\n",
       "      <th>Month</th>\n",
       "      <th>WeekOfMonth</th>\n",
       "      <th>DayOfWeek</th>\n",
       "      <th>Make</th>\n",
       "      <th>AccidentArea</th>\n",
       "      <th>DayOfWeekClaimed</th>\n",
       "      <th>MonthClaimed</th>\n",
       "      <th>WeekOfMonthClaimed</th>\n",
       "      <th>Sex</th>\n",
       "      <th>MaritalStatus</th>\n",
       "      <th>...</th>\n",
       "      <th>AgeOfVehicle</th>\n",
       "      <th>AgeOfPolicyHolder</th>\n",
       "      <th>PoliceReportFiled</th>\n",
       "      <th>WitnessPresent</th>\n",
       "      <th>AgentType</th>\n",
       "      <th>NumberOfSuppliments</th>\n",
       "      <th>AddressChange_Claim</th>\n",
       "      <th>NumberOfCars</th>\n",
       "      <th>Year</th>\n",
       "      <th>BasePolicy</th>\n",
       "    </tr>\n",
       "  </thead>\n",
       "  <tbody>\n",
       "    <tr>\n",
       "      <th>0</th>\n",
       "      <td>Dec</td>\n",
       "      <td>5</td>\n",
       "      <td>Wednesday</td>\n",
       "      <td>Honda</td>\n",
       "      <td>Urban</td>\n",
       "      <td>Tuesday</td>\n",
       "      <td>Jan</td>\n",
       "      <td>1</td>\n",
       "      <td>Female</td>\n",
       "      <td>Single</td>\n",
       "      <td>...</td>\n",
       "      <td>3 years</td>\n",
       "      <td>26 to 30</td>\n",
       "      <td>No</td>\n",
       "      <td>No</td>\n",
       "      <td>External</td>\n",
       "      <td>none</td>\n",
       "      <td>1 year</td>\n",
       "      <td>3 to 4</td>\n",
       "      <td>1994</td>\n",
       "      <td>Liability</td>\n",
       "    </tr>\n",
       "    <tr>\n",
       "      <th>1</th>\n",
       "      <td>Jan</td>\n",
       "      <td>3</td>\n",
       "      <td>Wednesday</td>\n",
       "      <td>Honda</td>\n",
       "      <td>Urban</td>\n",
       "      <td>Monday</td>\n",
       "      <td>Jan</td>\n",
       "      <td>4</td>\n",
       "      <td>Male</td>\n",
       "      <td>Single</td>\n",
       "      <td>...</td>\n",
       "      <td>6 years</td>\n",
       "      <td>31 to 35</td>\n",
       "      <td>Yes</td>\n",
       "      <td>No</td>\n",
       "      <td>External</td>\n",
       "      <td>none</td>\n",
       "      <td>no change</td>\n",
       "      <td>1 vehicle</td>\n",
       "      <td>1994</td>\n",
       "      <td>Collision</td>\n",
       "    </tr>\n",
       "    <tr>\n",
       "      <th>2</th>\n",
       "      <td>Oct</td>\n",
       "      <td>5</td>\n",
       "      <td>Friday</td>\n",
       "      <td>Honda</td>\n",
       "      <td>Urban</td>\n",
       "      <td>Thursday</td>\n",
       "      <td>Nov</td>\n",
       "      <td>2</td>\n",
       "      <td>Male</td>\n",
       "      <td>Married</td>\n",
       "      <td>...</td>\n",
       "      <td>7 years</td>\n",
       "      <td>41 to 50</td>\n",
       "      <td>No</td>\n",
       "      <td>No</td>\n",
       "      <td>External</td>\n",
       "      <td>none</td>\n",
       "      <td>no change</td>\n",
       "      <td>1 vehicle</td>\n",
       "      <td>1994</td>\n",
       "      <td>Collision</td>\n",
       "    </tr>\n",
       "  </tbody>\n",
       "</table>\n",
       "<p>3 rows × 33 columns</p>\n",
       "</div>"
      ],
      "text/plain": [
       "  Month  WeekOfMonth  DayOfWeek   Make AccidentArea DayOfWeekClaimed  \\\n",
       "0   Dec            5  Wednesday  Honda        Urban          Tuesday   \n",
       "1   Jan            3  Wednesday  Honda        Urban           Monday   \n",
       "2   Oct            5     Friday  Honda        Urban         Thursday   \n",
       "\n",
       "  MonthClaimed  WeekOfMonthClaimed     Sex MaritalStatus  ...  AgeOfVehicle  \\\n",
       "0          Jan                   1  Female        Single  ...       3 years   \n",
       "1          Jan                   4    Male        Single  ...       6 years   \n",
       "2          Nov                   2    Male       Married  ...       7 years   \n",
       "\n",
       "  AgeOfPolicyHolder PoliceReportFiled WitnessPresent AgentType  \\\n",
       "0          26 to 30                No             No  External   \n",
       "1          31 to 35               Yes             No  External   \n",
       "2          41 to 50                No             No  External   \n",
       "\n",
       "   NumberOfSuppliments  AddressChange_Claim  NumberOfCars  Year  BasePolicy  \n",
       "0                 none               1 year        3 to 4  1994   Liability  \n",
       "1                 none            no change     1 vehicle  1994   Collision  \n",
       "2                 none            no change     1 vehicle  1994   Collision  \n",
       "\n",
       "[3 rows x 33 columns]"
      ]
     },
     "execution_count": 41,
     "metadata": {},
     "output_type": "execute_result"
    }
   ],
   "source": [
    "df.head(3)"
   ]
  },
  {
   "cell_type": "code",
   "execution_count": 42,
   "id": "d9145f01",
   "metadata": {},
   "outputs": [
    {
     "name": "stdout",
     "output_type": "stream",
     "text": [
      "<class 'pandas.core.frame.DataFrame'>\n",
      "RangeIndex: 15420 entries, 0 to 15419\n",
      "Data columns (total 33 columns):\n",
      " #   Column                Non-Null Count  Dtype \n",
      "---  ------                --------------  ----- \n",
      " 0   Month                 15420 non-null  object\n",
      " 1   WeekOfMonth           15420 non-null  int64 \n",
      " 2   DayOfWeek             15420 non-null  object\n",
      " 3   Make                  15420 non-null  object\n",
      " 4   AccidentArea          15420 non-null  object\n",
      " 5   DayOfWeekClaimed      15420 non-null  object\n",
      " 6   MonthClaimed          15420 non-null  object\n",
      " 7   WeekOfMonthClaimed    15420 non-null  int64 \n",
      " 8   Sex                   15420 non-null  object\n",
      " 9   MaritalStatus         15420 non-null  object\n",
      " 10  Age                   15420 non-null  int64 \n",
      " 11  Fault                 15420 non-null  object\n",
      " 12  PolicyType            15420 non-null  object\n",
      " 13  VehicleCategory       15420 non-null  object\n",
      " 14  VehiclePrice          15420 non-null  object\n",
      " 15  FraudFound_P          15420 non-null  int64 \n",
      " 16  PolicyNumber          15420 non-null  int64 \n",
      " 17  RepNumber             15420 non-null  int64 \n",
      " 18  Deductible            15420 non-null  int64 \n",
      " 19  DriverRating          15420 non-null  int64 \n",
      " 20  Days_Policy_Accident  15420 non-null  object\n",
      " 21  Days_Policy_Claim     15420 non-null  object\n",
      " 22  PastNumberOfClaims    15420 non-null  object\n",
      " 23  AgeOfVehicle          15420 non-null  object\n",
      " 24  AgeOfPolicyHolder     15420 non-null  object\n",
      " 25  PoliceReportFiled     15420 non-null  object\n",
      " 26  WitnessPresent        15420 non-null  object\n",
      " 27  AgentType             15420 non-null  object\n",
      " 28  NumberOfSuppliments   15420 non-null  object\n",
      " 29  AddressChange_Claim   15420 non-null  object\n",
      " 30  NumberOfCars          15420 non-null  object\n",
      " 31  Year                  15420 non-null  int64 \n",
      " 32  BasePolicy            15420 non-null  object\n",
      "dtypes: int64(9), object(24)\n",
      "memory usage: 3.9+ MB\n"
     ]
    }
   ],
   "source": [
    "df.info()"
   ]
  },
  {
   "cell_type": "markdown",
   "id": "8a025ddd",
   "metadata": {},
   "source": [
    "Primero observamos que la columna PolicyNumber es un número único para cada entrada (índice), así que la vamos a sacar, para ver con mas prolijidad las demas variables.\n",
    "\n",
    "Policy number is just an index, a unique number for each entry, so it's removed"
   ]
  },
  {
   "cell_type": "code",
   "execution_count": 43,
   "id": "1aa0710b",
   "metadata": {},
   "outputs": [
    {
     "data": {
      "text/plain": [
       "array([    1,     2,     3, ..., 15418, 15419, 15420], dtype=int64)"
      ]
     },
     "execution_count": 43,
     "metadata": {},
     "output_type": "execute_result"
    }
   ],
   "source": [
    "df.PolicyNumber.unique()"
   ]
  },
  {
   "cell_type": "code",
   "execution_count": 44,
   "id": "39a26db7",
   "metadata": {},
   "outputs": [],
   "source": [
    "df = df.drop(columns=\"PolicyNumber\")"
   ]
  },
  {
   "cell_type": "markdown",
   "id": "714acee5",
   "metadata": {},
   "source": [
    "#### Ahora vamos a observar con más detalle los valores únicos de cada columna.\n",
    "\n",
    "(We observe with more detail unique values of each columns)"
   ]
  },
  {
   "cell_type": "code",
   "execution_count": 45,
   "id": "6b453788",
   "metadata": {},
   "outputs": [
    {
     "name": "stdout",
     "output_type": "stream",
     "text": [
      "Month\n",
      "['Apr', 'Aug', 'Dec', 'Feb', 'Jan', 'Jul', 'Jun', 'Mar', 'May', 'Nov', 'Oct', 'Sep'] \n",
      "\n",
      "WeekOfMonth\n",
      "[1, 2, 3, 4, 5] \n",
      "\n",
      "DayOfWeek\n",
      "['Friday', 'Monday', 'Saturday', 'Sunday', 'Thursday', 'Tuesday', 'Wednesday'] \n",
      "\n",
      "Make\n",
      "['Accura', 'BMW', 'Chevrolet', 'Dodge', 'Ferrari', 'Ford', 'Honda', 'Jaguar', 'Lexus', 'Mazda', 'Mecedes', 'Mercury', 'Nisson', 'Pontiac', 'Porche', 'Saab', 'Saturn', 'Toyota', 'VW'] \n",
      "\n",
      "AccidentArea\n",
      "['Rural', 'Urban'] \n",
      "\n",
      "DayOfWeekClaimed\n",
      "['0', 'Friday', 'Monday', 'Saturday', 'Sunday', 'Thursday', 'Tuesday', 'Wednesday'] \n",
      "\n",
      "MonthClaimed\n",
      "['0', 'Apr', 'Aug', 'Dec', 'Feb', 'Jan', 'Jul', 'Jun', 'Mar', 'May', 'Nov', 'Oct', 'Sep'] \n",
      "\n",
      "WeekOfMonthClaimed\n",
      "[1, 2, 3, 4, 5] \n",
      "\n",
      "Sex\n",
      "['Female', 'Male'] \n",
      "\n",
      "MaritalStatus\n",
      "['Divorced', 'Married', 'Single', 'Widow'] \n",
      "\n",
      "Age\n",
      "[0, 16, 17, 18, 19, 20, 21, 22, 23, 24, 25, 26, 27, 28, 29, 30, 31, 32, 33, 34, 35, 36, 37, 38, 39, 40, 41, 42, 43, 44, 45, 46, 47, 48, 49, 50, 51, 52, 53, 54, 55, 56, 57, 58, 59, 60, 61, 62, 63, 64, 65, 66, 67, 68, 69, 70, 71, 72, 73, 74, 75, 76, 77, 78, 79, 80] \n",
      "\n",
      "Fault\n",
      "['Policy Holder', 'Third Party'] \n",
      "\n",
      "PolicyType\n",
      "['Sedan - All Perils', 'Sedan - Collision', 'Sedan - Liability', 'Sport - All Perils', 'Sport - Collision', 'Sport - Liability', 'Utility - All Perils', 'Utility - Collision', 'Utility - Liability'] \n",
      "\n",
      "VehicleCategory\n",
      "['Sedan', 'Sport', 'Utility'] \n",
      "\n",
      "VehiclePrice\n",
      "['20000 to 29000', '30000 to 39000', '40000 to 59000', '60000 to 69000', 'less than 20000', 'more than 69000'] \n",
      "\n",
      "FraudFound_P\n",
      "[0, 1] \n",
      "\n",
      "RepNumber\n",
      "[1, 2, 3, 4, 5, 6, 7, 8, 9, 10, 11, 12, 13, 14, 15, 16] \n",
      "\n",
      "Deductible\n",
      "[300, 400, 500, 700] \n",
      "\n",
      "DriverRating\n",
      "[1, 2, 3, 4] \n",
      "\n",
      "Days_Policy_Accident\n",
      "['1 to 7', '15 to 30', '8 to 15', 'more than 30', 'none'] \n",
      "\n",
      "Days_Policy_Claim\n",
      "['15 to 30', '8 to 15', 'more than 30', 'none'] \n",
      "\n",
      "PastNumberOfClaims\n",
      "['1', '2 to 4', 'more than 4', 'none'] \n",
      "\n",
      "AgeOfVehicle\n",
      "['2 years', '3 years', '4 years', '5 years', '6 years', '7 years', 'more than 7', 'new'] \n",
      "\n",
      "AgeOfPolicyHolder\n",
      "['16 to 17', '18 to 20', '21 to 25', '26 to 30', '31 to 35', '36 to 40', '41 to 50', '51 to 65', 'over 65'] \n",
      "\n",
      "PoliceReportFiled\n",
      "['No', 'Yes'] \n",
      "\n",
      "WitnessPresent\n",
      "['No', 'Yes'] \n",
      "\n",
      "AgentType\n",
      "['External', 'Internal'] \n",
      "\n",
      "NumberOfSuppliments\n",
      "['1 to 2', '3 to 5', 'more than 5', 'none'] \n",
      "\n",
      "AddressChange_Claim\n",
      "['1 year', '2 to 3 years', '4 to 8 years', 'no change', 'under 6 months'] \n",
      "\n",
      "NumberOfCars\n",
      "['1 vehicle', '2 vehicles', '3 to 4', '5 to 8', 'more than 8'] \n",
      "\n",
      "Year\n",
      "[1994, 1995, 1996] \n",
      "\n",
      "BasePolicy\n",
      "['All Perils', 'Collision', 'Liability'] \n",
      "\n"
     ]
    }
   ],
   "source": [
    "for column in df:\n",
    "    print(column)\n",
    "    print(sorted(df[column].unique()),\"\\n\")"
   ]
  },
  {
   "cell_type": "markdown",
   "id": "0673eb72",
   "metadata": {
    "tags": []
   },
   "source": [
    "#### Para analizar: (To analize)\n",
    "- DayOfWeekClaimed, MonthClaimed, Age: no contienen valores nulos, pero contienen ceros. (This columns have ceros instead of nulls)\n",
    "- FraudFound_P: Balanceo de datos de la variable a predecir. (we need to balance the variable to predict)\n",
    "- DriverRating: tratar de ver si hay una relación entre el número de rating y la cantidad de accidentes. (Observe if there is a relationship between driver rating and number of accidents)"
   ]
  },
  {
   "cell_type": "markdown",
   "id": "40c4df5d",
   "metadata": {},
   "source": [
    "---\n",
    "### Valores Nulos (no los hay, pero hay ceros en su lugar)\n",
    "There are nulls instead of ceros in age"
   ]
  },
  {
   "cell_type": "markdown",
   "id": "61db025d",
   "metadata": {},
   "source": [
    "Vamos a analizar los ceros encontrados. (We are going to analyse the zeros found)\n",
    "\n",
    "Primero en la columna Age. (in the Age column first)"
   ]
  },
  {
   "cell_type": "code",
   "execution_count": 46,
   "id": "96a591c0",
   "metadata": {},
   "outputs": [
    {
     "data": {
      "text/plain": [
       "320"
      ]
     },
     "execution_count": 46,
     "metadata": {},
     "output_type": "execute_result"
    }
   ],
   "source": [
    "len(df.loc[df.Age == 0])"
   ]
  },
  {
   "cell_type": "markdown",
   "id": "1fcd43b4",
   "metadata": {},
   "source": [
    "Vemos si es lógico imputar los valores con los de la columna AgeOfPolicyHolder en lugar de usar una media.\n",
    "\n",
    "We try to find a logical way to impute, looking at the AgeOfPolicyHolder column intead of using a mean value"
   ]
  },
  {
   "cell_type": "code",
   "execution_count": 47,
   "id": "bbb7fd10",
   "metadata": {},
   "outputs": [
    {
     "data": {
      "text/plain": [
       "16 to 17    320\n",
       "Name: AgeOfPolicyHolder, dtype: int64"
      ]
     },
     "execution_count": 47,
     "metadata": {},
     "output_type": "execute_result"
    }
   ],
   "source": [
    "mask_0 = df[\"Age\"] == 0\n",
    "df_age_0 = df[mask_0]\n",
    "df_age_0.AgeOfPolicyHolder.value_counts()"
   ]
  },
  {
   "cell_type": "markdown",
   "id": "671ca568",
   "metadata": {},
   "source": [
    "Nos encomtramos con que todas las filas con valores de Age = 0, son los mismos que los de AgeOfPolicyHolder = 16 to 17. Así que vamos a profundizar un poco en la relación entre Age y AgeOfPolicyHolder.\n",
    "\n",
    "We found that zero values a are all between 16 to 17 in AgeOfPolicyHolder, so we are goin to get a better insight of the relatioship"
   ]
  },
  {
   "cell_type": "code",
   "execution_count": 48,
   "id": "6430efaf",
   "metadata": {},
   "outputs": [
    {
     "name": "stdout",
     "output_type": "stream",
     "text": [
      "320\n"
     ]
    },
    {
     "data": {
      "text/plain": [
       "0.0"
      ]
     },
     "execution_count": 48,
     "metadata": {},
     "output_type": "execute_result"
    }
   ],
   "source": [
    "mask_holder = df[\"AgeOfPolicyHolder\"] == \"16 to 17\"\n",
    "age_holder = df[mask_holder]\n",
    "print(len(age_holder))\n",
    "np.mean(age_holder.Age)"
   ]
  },
  {
   "cell_type": "code",
   "execution_count": 49,
   "id": "d996e02c",
   "metadata": {},
   "outputs": [
    {
     "data": {
      "text/plain": [
       "True"
      ]
     },
     "execution_count": 49,
     "metadata": {},
     "output_type": "execute_result"
    }
   ],
   "source": [
    "age_holder.equals(df_age_0)"
   ]
  },
  {
   "cell_type": "code",
   "execution_count": 50,
   "id": "f5e3eea1",
   "metadata": {},
   "outputs": [
    {
     "data": {
      "text/html": [
       "<div>\n",
       "<style scoped>\n",
       "    .dataframe tbody tr th:only-of-type {\n",
       "        vertical-align: middle;\n",
       "    }\n",
       "\n",
       "    .dataframe tbody tr th {\n",
       "        vertical-align: top;\n",
       "    }\n",
       "\n",
       "    .dataframe thead th {\n",
       "        text-align: right;\n",
       "    }\n",
       "</style>\n",
       "<table border=\"1\" class=\"dataframe\">\n",
       "  <thead>\n",
       "    <tr style=\"text-align: right;\">\n",
       "      <th></th>\n",
       "      <th>Age</th>\n",
       "    </tr>\n",
       "    <tr>\n",
       "      <th>AgeOfPolicyHolder</th>\n",
       "      <th></th>\n",
       "    </tr>\n",
       "  </thead>\n",
       "  <tbody>\n",
       "    <tr>\n",
       "      <th>16 to 17</th>\n",
       "      <td>0.000000</td>\n",
       "    </tr>\n",
       "    <tr>\n",
       "      <th>18 to 20</th>\n",
       "      <td>16.400000</td>\n",
       "    </tr>\n",
       "    <tr>\n",
       "      <th>21 to 25</th>\n",
       "      <td>18.814815</td>\n",
       "    </tr>\n",
       "    <tr>\n",
       "      <th>26 to 30</th>\n",
       "      <td>22.941272</td>\n",
       "    </tr>\n",
       "    <tr>\n",
       "      <th>31 to 35</th>\n",
       "      <td>30.548006</td>\n",
       "    </tr>\n",
       "    <tr>\n",
       "      <th>36 to 40</th>\n",
       "      <td>40.483304</td>\n",
       "    </tr>\n",
       "    <tr>\n",
       "      <th>41 to 50</th>\n",
       "      <td>50.423267</td>\n",
       "    </tr>\n",
       "    <tr>\n",
       "      <th>51 to 65</th>\n",
       "      <td>60.441092</td>\n",
       "    </tr>\n",
       "    <tr>\n",
       "      <th>over 65</th>\n",
       "      <td>72.783465</td>\n",
       "    </tr>\n",
       "  </tbody>\n",
       "</table>\n",
       "</div>"
      ],
      "text/plain": [
       "                         Age\n",
       "AgeOfPolicyHolder           \n",
       "16 to 17            0.000000\n",
       "18 to 20           16.400000\n",
       "21 to 25           18.814815\n",
       "26 to 30           22.941272\n",
       "31 to 35           30.548006\n",
       "36 to 40           40.483304\n",
       "41 to 50           50.423267\n",
       "51 to 65           60.441092\n",
       "over 65            72.783465"
      ]
     },
     "execution_count": 50,
     "metadata": {},
     "output_type": "execute_result"
    }
   ],
   "source": [
    "pd.DataFrame(df.groupby(\"AgeOfPolicyHolder\")[\"Age\"].mean())"
   ]
  },
  {
   "cell_type": "markdown",
   "id": "4fadb0ea",
   "metadata": {},
   "source": [
    "Vemos que la media de Age es menor que el rango de AgeOfPolicyHolder, en todos los rangos hasta 36 to 40 que comienza a estar dentro del rango. No sabemos bien como interpretar esto, tal ves que el que manejaba era menor de edad, vamos a ver si fueron hallados culpables en el accidente, ya que si el conductor es menor de edad debería ser culpable siempre.\n",
    "\n",
    "Here we observe that the mean of age is lower than the range of its respective AgeOfPolicyHolder until the 36 to 40 range, so it doesn't take us to a clear conclusion, so we check if it means that the subjets with age zero are under driving age"
   ]
  },
  {
   "cell_type": "code",
   "execution_count": 51,
   "id": "2202a0b0",
   "metadata": {},
   "outputs": [
    {
     "data": {
      "text/plain": [
       "Policy Holder    278\n",
       "Third Party       42\n",
       "Name: Fault, dtype: int64"
      ]
     },
     "execution_count": 51,
     "metadata": {},
     "output_type": "execute_result"
    }
   ],
   "source": [
    "df_age_0.Fault.value_counts()"
   ]
  },
  {
   "cell_type": "markdown",
   "id": "ddf7c1a7",
   "metadata": {},
   "source": [
    "Vemos que en la mayoría de los casos son culpables, pero no en todos, por lo que vamos a optar por imputar los valores 0 por el minimo valor del rango 16 to 17 de AgeOfPolicyHolder.\n",
    "\n",
    "There is a mayority of guilty cases, but not all, so we can't coclude zeros are minors (under driving age). So we impute with the lowest driving age fron AgeOfPolicyHolder of 16"
   ]
  },
  {
   "cell_type": "code",
   "execution_count": 52,
   "id": "9b08ea18",
   "metadata": {},
   "outputs": [],
   "source": [
    "df.Age = df.Age.replace(0, 16)"
   ]
  },
  {
   "cell_type": "code",
   "execution_count": 53,
   "id": "594ba133",
   "metadata": {},
   "outputs": [
    {
     "data": {
      "text/plain": [
       "0"
      ]
     },
     "execution_count": 53,
     "metadata": {},
     "output_type": "execute_result"
    }
   ],
   "source": [
    "len(df.loc[df.Age == 0])"
   ]
  },
  {
   "cell_type": "markdown",
   "id": "7cd01d60",
   "metadata": {},
   "source": [
    "Graficamos la relación entre la edad y cantidad de fraudes cometidos luego de imputar la edad de 0.\n",
    "\n",
    "Lets graph the relationship between age and fraud after the impute"
   ]
  },
  {
   "cell_type": "code",
   "execution_count": 54,
   "id": "b599a68b",
   "metadata": {},
   "outputs": [
    {
     "data": {
      "image/png": "[encoded data removed]",
      "text/plain": [
       "<Figure size 1584x432 with 1 Axes>"
      ]
     },
     "metadata": {
      "needs_background": "light"
     },
     "output_type": "display_data"
    }
   ],
   "source": [
    "gpd_by_val=df.groupby('Age').agg({'FraudFound_P':'sum'}).reset_index()\n",
    "\n",
    "fig, (ax1) = plt.subplots(1,1,figsize=(22, 6))\n",
    "grph =sns.barplot(x='Age', y='FraudFound_P', data = gpd_by_val, ax=ax1)\n",
    "\n",
    "plt.title(\"Incidencia de Fraude por edad\")\n",
    "grph.set_xticklabels(grph.get_xticklabels(),\n",
    "                    rotation=0,\n",
    "                    horizontalalignment='right'\n",
    "                    );"
   ]
  },
  {
   "cell_type": "markdown",
   "id": "4b4666f0",
   "metadata": {},
   "source": [
    "En este grafico vemos que imputando la edad introducimos ruido, ya que generamos un claro Outlier.\n",
    "\n",
    "Procedemos a revisar la cantidad de valores de fraude positivo que representan estos valores en el dataset.\n",
    "\n",
    "Here we see that we have a lot of noise using the previous impute strategy.\n",
    "\n",
    "So we pocede by checking the representation of those 320 values in the data set."
   ]
  },
  {
   "cell_type": "code",
   "execution_count": 55,
   "id": "0f88ef7e",
   "metadata": {},
   "outputs": [],
   "source": [
    "# cantidad de fraudes con edad 0\n",
    "ages0 = df_age_0.FraudFound_P.value_counts()\n",
    "all_ages = df.FraudFound_P.value_counts()"
   ]
  },
  {
   "cell_type": "code",
   "execution_count": 56,
   "id": "7725e3ed",
   "metadata": {},
   "outputs": [
    {
     "name": "stdout",
     "output_type": "stream",
     "text": [
      "Proporcion de fraudes con edad 0 respecto del total: 3.36%\n"
     ]
    }
   ],
   "source": [
    "percent = ages0[1] / all_ages[1] * 100\n",
    "print(f\"Proporcion de fraudes con edad 0 respecto del total: {round(percent, 2)}%\")"
   ]
  },
  {
   "cell_type": "markdown",
   "id": "3ceaf4a7",
   "metadata": {},
   "source": [
    "Dado que es un valor mínimo decidí removerlo del data set, pinso que son una minoría de casos que nos van a introducir ruido en nuestro sistema de ML y que conviene dejar que especialistas los analicen meticulosamente.\n",
    "\n",
    "Given it's a minority I decided to remove those values from the dataset, so it doesn't impact our ML. It's probably bets to assign specialists to have a better look on those few cases."
   ]
  },
  {
   "cell_type": "code",
   "execution_count": 57,
   "id": "993c0977",
   "metadata": {},
   "outputs": [],
   "source": [
    "mask_holder2 = df[\"AgeOfPolicyHolder\"] != \"16 to 17\"\n",
    "\n",
    "df = df[mask_holder2]"
   ]
  },
  {
   "cell_type": "code",
   "execution_count": 58,
   "id": "b599bf3f",
   "metadata": {},
   "outputs": [
    {
     "data": {
      "text/plain": [
       "(15100, 32)"
      ]
     },
     "execution_count": 58,
     "metadata": {},
     "output_type": "execute_result"
    }
   ],
   "source": [
    "df.shape"
   ]
  },
  {
   "cell_type": "code",
   "execution_count": 59,
   "id": "b599a68b",
   "metadata": {},
   "outputs": [
    {
     "data": {
      "image/png": "[encoded data removed]",
      "text/plain": [
       "<Figure size 1584x432 with 1 Axes>"
      ]
     },
     "metadata": {
      "needs_background": "light"
     },
     "output_type": "display_data"
    }
   ],
   "source": [
    "gpd_by_val=df.groupby('Age').agg({'FraudFound_P':'sum'}).reset_index()\n",
    "\n",
    "fig, (ax1) = plt.subplots(1,1,figsize=(22, 6))\n",
    "grph =sns.barplot(x='Age', y='FraudFound_P', data = gpd_by_val, ax=ax1)\n",
    "\n",
    "plt.title(\"Incidencia de Fraude por edad\")\n",
    "grph.set_xticklabels(grph.get_xticklabels(),\n",
    "                    rotation=0,\n",
    "                    horizontalalignment='right'\n",
    "                    );"
   ]
  },
  {
   "cell_type": "markdown",
   "id": "d9473285",
   "metadata": {},
   "source": [
    "Ahora vamos a ver los ceros en las columnas DayOfWeekClaimed y MonthClaimed.\n",
    "\n",
    "Now let's look at the zero values in DayOfWeekClaimed and MonthClaimed."
   ]
  },
  {
   "cell_type": "code",
   "execution_count": 60,
   "id": "85adad89",
   "metadata": {},
   "outputs": [
    {
     "data": {
      "text/plain": [
       "0"
      ]
     },
     "execution_count": 60,
     "metadata": {},
     "output_type": "execute_result"
    }
   ],
   "source": [
    "len(df.loc[df.DayOfWeekClaimed == \"0\"])"
   ]
  },
  {
   "cell_type": "code",
   "execution_count": 61,
   "id": "87527fe6",
   "metadata": {},
   "outputs": [
    {
     "data": {
      "text/plain": [
       "0"
      ]
     },
     "execution_count": 61,
     "metadata": {},
     "output_type": "execute_result"
    }
   ],
   "source": [
    "len(df.loc[df.MonthClaimed == \"0\"])"
   ]
  },
  {
   "cell_type": "code",
   "execution_count": 62,
   "id": "2d7a46df",
   "metadata": {},
   "outputs": [
    {
     "data": {
      "text/html": [
       "<div>\n",
       "<style scoped>\n",
       "    .dataframe tbody tr th:only-of-type {\n",
       "        vertical-align: middle;\n",
       "    }\n",
       "\n",
       "    .dataframe tbody tr th {\n",
       "        vertical-align: top;\n",
       "    }\n",
       "\n",
       "    .dataframe thead th {\n",
       "        text-align: right;\n",
       "    }\n",
       "</style>\n",
       "<table border=\"1\" class=\"dataframe\">\n",
       "  <thead>\n",
       "    <tr style=\"text-align: right;\">\n",
       "      <th></th>\n",
       "      <th>MonthClaimed</th>\n",
       "      <th>DayOfWeekClaimed</th>\n",
       "    </tr>\n",
       "  </thead>\n",
       "  <tbody>\n",
       "  </tbody>\n",
       "</table>\n",
       "</div>"
      ],
      "text/plain": [
       "Empty DataFrame\n",
       "Columns: [MonthClaimed, DayOfWeekClaimed]\n",
       "Index: []"
      ]
     },
     "execution_count": 62,
     "metadata": {},
     "output_type": "execute_result"
    }
   ],
   "source": [
    "df.loc[(df.MonthClaimed == \"0\") | (df.MonthClaimed == \"0\"), [\"MonthClaimed\", \"DayOfWeekClaimed\"]]"
   ]
  },
  {
   "cell_type": "markdown",
   "id": "e9d6f8db",
   "metadata": {},
   "source": [
    "El valor 0 en MonthClaimed y DayOfWeekClaimed quedó eliminado al remover los valores de edad 0\n",
    "\n",
    "It looks like zero values were part of the previously removed rows."
   ]
  },
  {
   "cell_type": "markdown",
   "id": "a1f25ed3",
   "metadata": {},
   "source": [
    "---\n",
    "Vemos también que PolicyType es un string de la concatenación entre VehicleCategory y BasePolicy. El tipo de seguro coincide perfectamente, pero no el tipo de auto.\n",
    "\n",
    "Here we check that PolicyType is a string formed by the concatenation of VehicleCategory and Base Policy. The polocy type match perfectly but not the vehicle category."
   ]
  },
  {
   "cell_type": "code",
   "execution_count": 63,
   "id": "2db315e9",
   "metadata": {},
   "outputs": [
    {
     "data": {
      "text/html": [
       "<div>\n",
       "<style scoped>\n",
       "    .dataframe tbody tr th:only-of-type {\n",
       "        vertical-align: middle;\n",
       "    }\n",
       "\n",
       "    .dataframe tbody tr th {\n",
       "        vertical-align: top;\n",
       "    }\n",
       "\n",
       "    .dataframe thead th {\n",
       "        text-align: right;\n",
       "    }\n",
       "</style>\n",
       "<table border=\"1\" class=\"dataframe\">\n",
       "  <thead>\n",
       "    <tr style=\"text-align: right;\">\n",
       "      <th></th>\n",
       "      <th>PolicyType</th>\n",
       "      <th>VehicleCategory</th>\n",
       "      <th>BasePolicy</th>\n",
       "    </tr>\n",
       "  </thead>\n",
       "  <tbody>\n",
       "    <tr>\n",
       "      <th>0</th>\n",
       "      <td>Sport - Liability</td>\n",
       "      <td>Sport</td>\n",
       "      <td>Liability</td>\n",
       "    </tr>\n",
       "    <tr>\n",
       "      <th>1</th>\n",
       "      <td>Sport - Collision</td>\n",
       "      <td>Sport</td>\n",
       "      <td>Collision</td>\n",
       "    </tr>\n",
       "    <tr>\n",
       "      <th>2</th>\n",
       "      <td>Sport - Collision</td>\n",
       "      <td>Sport</td>\n",
       "      <td>Collision</td>\n",
       "    </tr>\n",
       "    <tr>\n",
       "      <th>3</th>\n",
       "      <td>Sedan - Liability</td>\n",
       "      <td>Sport</td>\n",
       "      <td>Liability</td>\n",
       "    </tr>\n",
       "    <tr>\n",
       "      <th>4</th>\n",
       "      <td>Sport - Collision</td>\n",
       "      <td>Sport</td>\n",
       "      <td>Collision</td>\n",
       "    </tr>\n",
       "  </tbody>\n",
       "</table>\n",
       "</div>"
      ],
      "text/plain": [
       "          PolicyType VehicleCategory BasePolicy\n",
       "0  Sport - Liability           Sport  Liability\n",
       "1  Sport - Collision           Sport  Collision\n",
       "2  Sport - Collision           Sport  Collision\n",
       "3  Sedan - Liability           Sport  Liability\n",
       "4  Sport - Collision           Sport  Collision"
      ]
     },
     "execution_count": 63,
     "metadata": {},
     "output_type": "execute_result"
    }
   ],
   "source": [
    "df[[\"PolicyType\", \"VehicleCategory\", \"BasePolicy\"]].head()"
   ]
  },
  {
   "cell_type": "markdown",
   "id": "96f0c94d",
   "metadata": {},
   "source": [
    "Hacemos 2 funciones para generar nuevas columnas a partir de PolicyType, para poder compararlas con VehicleCategory y BasePolicy.\n",
    "\n",
    "We make 2 functions to generate 2 new columns from PolicyType, so it's possible to compare them with VehicleCategory and BasePolicy."
   ]
  },
  {
   "cell_type": "code",
   "execution_count": 64,
   "id": "5eeb926a",
   "metadata": {},
   "outputs": [],
   "source": [
    "def get_car_cat(cat):\n",
    "    if \"Sedan\" in cat:\n",
    "        return \"Sedan\"\n",
    "    elif \"Sport\" in cat:\n",
    "        return \"Sport\"\n",
    "    else:\n",
    "        return \"Utility\"\n",
    "\n",
    "def get_base_policy(pol):\n",
    "    if \"All Perils\" in pol:\n",
    "        return \"All Perils\"\n",
    "    elif \"Collision\" in pol:\n",
    "        return \"Collision\"\n",
    "    else:\n",
    "        return \"Liability\"\n",
    "\n",
    "# Creamos una serie para aplicar las funciones. (make a serie to apply the functions)\n",
    "policy_type_series = df.PolicyType\n",
    "\n",
    "# Generamos las nuevas columnas usando las funciones. (Generate new columns using the functions)\n",
    "vehicle_category_2 = [get_car_cat(x) for x in policy_type_series]\n",
    "df[\"VehicleCat_2\"] = vehicle_category_2\n",
    "\n",
    "base_policy_2 = [get_base_policy(x) for x in policy_type_series]\n",
    "df[\"BasePolicy_2\"] = base_policy_2"
   ]
  },
  {
   "cell_type": "markdown",
   "id": "a2b4d047-825b-4ec6-bbb3-34a999985608",
   "metadata": {},
   "source": [
    "Vemos las diferencias entre las categorías de seguros.\n",
    "\n",
    "Check differences between Base Policies"
   ]
  },
  {
   "cell_type": "code",
   "execution_count": 65,
   "id": "a83aa6c2-df4a-48af-9472-fbf0f3f7ee19",
   "metadata": {},
   "outputs": [
    {
     "name": "stdout",
     "output_type": "stream",
     "text": [
      "Distintos (Mismatch):  0\n",
      "Iguales (Match):  15100\n"
     ]
    }
   ],
   "source": [
    "print(\"Distintos (Mismatch): \", len(df.loc[df.BasePolicy != df.BasePolicy_2, ['BasePolicy', 'BasePolicy_2']]))\n",
    "print(\"Iguales (Match): \", len(df.loc[df.BasePolicy == df.BasePolicy_2, ['BasePolicy', 'BasePolicy_2']]))"
   ]
  },
  {
   "cell_type": "markdown",
   "id": "65ad903a-e82c-4990-9f0e-1041e5281669",
   "metadata": {},
   "source": [
    "Vemos las diferencias entre las categorías de autos.\n",
    "\n",
    "Check differences between Car Categories"
   ]
  },
  {
   "cell_type": "code",
   "execution_count": 66,
   "id": "221e1940-1b0c-47c3-92d5-99b53cc279ca",
   "metadata": {},
   "outputs": [
    {
     "name": "stdout",
     "output_type": "stream",
     "text": [
      "Distintos (Mismatch):  4849\n",
      "Iguales (Match):  10251\n"
     ]
    }
   ],
   "source": [
    "print(\"Distintos (Mismatch): \", len(df.loc[df.VehicleCategory != df.VehicleCat_2, ['VehicleCategory', 'VehicleCat_2']]))\n",
    "print(\"Iguales (Match): \", len(df.loc[df.VehicleCategory == df.VehicleCat_2, ['VehicleCategory', 'VehicleCat_2']]))"
   ]
  },
  {
   "cell_type": "code",
   "execution_count": 67,
   "id": "1b10c1dd",
   "metadata": {},
   "outputs": [
    {
     "name": "stdout",
     "output_type": "stream",
     "text": [
      "Sedan:  9510\n",
      "Sport:  5208\n",
      "Utility:  382\n",
      "Total:  15100 \n",
      "\n",
      "Sedan2:  14359\n",
      "Sport2:  359\n",
      "Utility2:  382\n",
      "Total:  15100\n"
     ]
    }
   ],
   "source": [
    "sedan = len(df.loc[df.VehicleCategory == \"Sedan\"])\n",
    "sport = len(df.loc[df.VehicleCategory == \"Sport\"])\n",
    "utility = len(df.loc[df.VehicleCategory == \"Utility\"])\n",
    "total = sedan + sport + utility\n",
    "\n",
    "sedan_2 = len(df.loc[df.VehicleCat_2 == \"Sedan\"])\n",
    "sport_2 = len(df.loc[df.VehicleCat_2 == \"Sport\"])\n",
    "utility_2 = len(df.loc[df.VehicleCat_2 == \"Utility\"])\n",
    "total_2 = sedan_2 + sport_2 + utility_2\n",
    "\n",
    "print(\"Sedan: \", sedan)\n",
    "print(\"Sport: \", sport)\n",
    "print(\"Utility: \", utility)\n",
    "print(\"Total: \", total, \"\\n\")\n",
    "print(\"Sedan2: \", sedan_2)\n",
    "print(\"Sport2: \", sport_2)\n",
    "print(\"Utility2: \", utility_2)\n",
    "print(\"Total: \", total_2)"
   ]
  },
  {
   "cell_type": "markdown",
   "id": "6288f6ae",
   "metadata": {},
   "source": [
    "Vemos que hay una diferencia en las cantidades de sedanes y deportivos, pero es difícil lleagar a una conclusión, dado que no sabemos que tipo de vhículo cae en cada categoría, así que decidimos eliminar la columna PolicyType y quedarnos con las columnas BasePolicy y VehicleCategory.\n",
    "\n",
    "We can appreciate a difference between Sedan and Sport, it's had to get to a conclusion, given we don't know what car falls in to what category, this aren't very representative categories (no hatcback, suv, pick up, etc...). So we decide ditch PolicyType and kepp BasePolicy and VehicleCategory"
   ]
  },
  {
   "cell_type": "code",
   "execution_count": 68,
   "id": "34f0f020",
   "metadata": {
    "tags": []
   },
   "outputs": [],
   "source": [
    "df = df.drop(columns=[\"PolicyType\",\"VehicleCat_2\", \"BasePolicy_2\"])"
   ]
  },
  {
   "cell_type": "markdown",
   "id": "d22d2923",
   "metadata": {},
   "source": [
    "### FraudFound_P\n",
    "Observamos que tiene una variable a predecir desbalanceada.\n",
    "\n",
    "Here we can appreciate how inbalanced is FradFound_P."
   ]
  },
  {
   "cell_type": "code",
   "execution_count": 69,
   "id": "ad5ca2a5",
   "metadata": {},
   "outputs": [
    {
     "name": "stdout",
     "output_type": "stream",
     "text": [
      "Proporción de fraudes: 5.91%\n"
     ]
    },
    {
     "data": {
      "text/plain": [
       "Text(0, 0.5, 'Cantidad de Observaciones')"
      ]
     },
     "execution_count": 69,
     "metadata": {},
     "output_type": "execute_result"
    },
    {
     "data": {
      "image/png": "[encoded data removed]",
      "text/plain": [
       "<Figure size 432x288 with 1 Axes>"
      ]
     },
     "metadata": {
      "needs_background": "light"
     },
     "output_type": "display_data"
    }
   ],
   "source": [
    "fraudes = df[\"FraudFound_P\"].value_counts()\n",
    "porc_fraudes = fraudes[1] / df.shape[0] * 100\n",
    "print(f\"Proporción de fraudes: {round(porc_fraudes, 2)}%\")\n",
    "df[\"FraudFound_P\"].value_counts().plot(kind=\"bar\", color=[\"lightblue\"])\n",
    "plt.title(\"Incidencia de Fraudes\")\n",
    "plt.xlabel(\"FraudFound_P\")\n",
    "plt.ylabel(\"Cantidad de Observaciones\")"
   ]
  },
  {
   "cell_type": "markdown",
   "id": "2e10da7d",
   "metadata": {},
   "source": [
    "#### DriverRating (nominal u/or ordinal)\n",
    "Vemos que DriverRating está muy uniformemente distribuída, por lo que no podemos suponer que tiene relación con la cantidad de accidentes, osea, si alguien con calificación 1, tiene menos probabilidades de tener un accidente que alguien con calificación 4. Por lo que la vamos a convertir en dummies.\n",
    "\n",
    "DriverRating is very balanced, so we can't assume a rank 1 has moor chances to crrash than a rank 4. We treat those as nominal, so we will make dummies."
   ]
  },
  {
   "cell_type": "code",
   "execution_count": 70,
   "id": "09866ae6",
   "metadata": {},
   "outputs": [
    {
     "name": "stdout",
     "output_type": "stream",
     "text": [
      "1    3866\n",
      "3    3788\n",
      "4    3725\n",
      "2    3721\n",
      "Name: DriverRating, dtype: int64\n"
     ]
    },
    {
     "data": {
      "text/plain": [
       "Text(0, 0.5, 'Cantidad de Observaciones')"
      ]
     },
     "execution_count": 70,
     "metadata": {},
     "output_type": "execute_result"
    },
    {
     "data": {
      "image/png": "[encoded data removed]",
      "text/plain": [
       "<Figure size 432x288 with 1 Axes>"
      ]
     },
     "metadata": {
      "needs_background": "light"
     },
     "output_type": "display_data"
    }
   ],
   "source": [
    "print(df[\"DriverRating\"].value_counts())\n",
    "df[\"DriverRating\"].value_counts().plot(kind=\"bar\", color=[\"lightblue\"])\n",
    "plt.title(\"Ranking de Conductores\")\n",
    "plt.xlabel(\"Categorias de Conductores\")\n",
    "plt.ylabel(\"Cantidad de Observaciones\")"
   ]
  },
  {
   "cell_type": "markdown",
   "id": "fa7742b6",
   "metadata": {},
   "source": [
    "### Relación entre fraude y tipo de seguro. (Relationship between fraud and BasePolicy)\n",
    "Vemos que es mucho mas común el fraude en los seguros contra todo riesgo. (vemos el porcentaje de fraude agrupado por tipo de seguro)\n",
    "We can se that is much moore common a fraud on a All Perils policy than on a Liability policy."
   ]
  },
  {
   "cell_type": "code",
   "execution_count": 71,
   "id": "8d4d4432",
   "metadata": {},
   "outputs": [
    {
     "data": {
      "text/html": [
       "<div>\n",
       "<style scoped>\n",
       "    .dataframe tbody tr th:only-of-type {\n",
       "        vertical-align: middle;\n",
       "    }\n",
       "\n",
       "    .dataframe tbody tr th {\n",
       "        vertical-align: top;\n",
       "    }\n",
       "\n",
       "    .dataframe thead th {\n",
       "        text-align: right;\n",
       "    }\n",
       "</style>\n",
       "<table border=\"1\" class=\"dataframe\">\n",
       "  <thead>\n",
       "    <tr style=\"text-align: right;\">\n",
       "      <th></th>\n",
       "      <th>FraudFound_P</th>\n",
       "    </tr>\n",
       "    <tr>\n",
       "      <th>BasePolicy</th>\n",
       "      <th></th>\n",
       "    </tr>\n",
       "  </thead>\n",
       "  <tbody>\n",
       "    <tr>\n",
       "      <th>All Perils</th>\n",
       "      <td>9.847786</td>\n",
       "    </tr>\n",
       "    <tr>\n",
       "      <th>Collision</th>\n",
       "      <td>7.295555</td>\n",
       "    </tr>\n",
       "    <tr>\n",
       "      <th>Liability</th>\n",
       "      <td>0.718686</td>\n",
       "    </tr>\n",
       "  </tbody>\n",
       "</table>\n",
       "</div>"
      ],
      "text/plain": [
       "            FraudFound_P\n",
       "BasePolicy              \n",
       "All Perils      9.847786\n",
       "Collision       7.295555\n",
       "Liability       0.718686"
      ]
     },
     "execution_count": 71,
     "metadata": {},
     "output_type": "execute_result"
    }
   ],
   "source": [
    "pd.DataFrame(df.groupby(\"BasePolicy\")[\"FraudFound_P\"].mean()*100)"
   ]
  },
  {
   "cell_type": "markdown",
   "id": "84f84b86",
   "metadata": {},
   "source": [
    "Diferencias entre géneros.\n",
    "\n",
    "Differences between genders."
   ]
  },
  {
   "cell_type": "code",
   "execution_count": 72,
   "id": "13e07dbd",
   "metadata": {},
   "outputs": [
    {
     "data": {
      "image/png": "[encoded data removed]",
      "text/plain": [
       "<Figure size 864x432 with 1 Axes>"
      ]
     },
     "metadata": {
      "needs_background": "light"
     },
     "output_type": "display_data"
    }
   ],
   "source": [
    "pd.crosstab(df.FraudFound_P, df.Sex).plot(kind=\"bar\",\n",
    "                                          color=[\"salmon\",\"lightblue\"],\n",
    "                                          figsize=(12,6))\n",
    "\n",
    "plt.title(\"Frecuencia de Fraude por Género\")\n",
    "plt.xlabel(\"Género = Masculino & Femenino\")\n",
    "plt.ylabel(\"Cantidad\")\n",
    "plt.legend([\"Femenino\",\"Masculino\"])\n",
    "plt.xticks(rotation = 0);"
   ]
  },
  {
   "cell_type": "code",
   "execution_count": 73,
   "id": "f33731fd",
   "metadata": {},
   "outputs": [
    {
     "name": "stdout",
     "output_type": "stream",
     "text": [
      "Proporción de masculinos que cometen fraudes: 6.21%\n",
      "Proporción de femeninos que cometen fraudes: 4.34%\n"
     ]
    },
    {
     "data": {
      "image/png": "[encoded data removed]",
      "text/plain": [
       "<Figure size 432x288 with 1 Axes>"
      ]
     },
     "metadata": {},
     "output_type": "display_data"
    }
   ],
   "source": [
    "male_p = df.FraudFound_P[(df.Sex == \"Male\") & (df.FraudFound_P == 1)].count()\n",
    "male_neg = df.FraudFound_P[(df.Sex == \"Male\") & (df.FraudFound_P == 0)].count()\n",
    "male_prop = male_p/(male_p + male_neg) * 100\n",
    "\n",
    "female_p = df.FraudFound_P[(df.Sex == \"Female\") & (df.FraudFound_P == 1)].count()\n",
    "female_neg = df.FraudFound_P[(df.Sex == \"Female\") & (df.FraudFound_P == 0)].count()\n",
    "female_prop = female_p/(female_p + female_neg) * 100\n",
    "\n",
    "print(f\"Proporción de masculinos que cometen fraudes: {round(male_prop, 2)}%\")\n",
    "print(f\"Proporción de femeninos que cometen fraudes: {round(female_prop, 2)}%\")\n",
    "\n",
    "data = [male_prop, female_prop]\n",
    "keys = ['Masculino', 'Femenino']\n",
    "\n",
    "plt.pie(data, labels=keys, autopct='%.0f%%')\n",
    "\n",
    "plt.show()"
   ]
  },
  {
   "cell_type": "markdown",
   "id": "59ffc361",
   "metadata": {},
   "source": [
    "---\n",
    "## Preparación del Dataset (Preparing the Dataset)"
   ]
  },
  {
   "cell_type": "markdown",
   "id": "31684223",
   "metadata": {},
   "source": [
    "#### Transformamos las variables categóricas a dummies (we make dummies out of the categorical variables)"
   ]
  },
  {
   "cell_type": "code",
   "execution_count": 74,
   "id": "739ef541",
   "metadata": {},
   "outputs": [],
   "source": [
    "df = pd.get_dummies(df, columns=['Month', 'WeekOfMonth', 'DayOfWeek', 'Make', 'AccidentArea', 'DayOfWeekClaimed', 'MonthClaimed',\n",
    "                                 'WeekOfMonthClaimed', 'Sex', 'MaritalStatus', 'Fault', 'VehicleCategory', 'VehiclePrice', 'RepNumber',\n",
    "                                 'DriverRating', 'Days_Policy_Accident', 'Days_Policy_Claim', 'PastNumberOfClaims', 'AgeOfVehicle',\n",
    "                                 'AgeOfPolicyHolder', 'PoliceReportFiled', 'WitnessPresent', 'AgentType', 'NumberOfSuppliments',\n",
    "                                 'AddressChange_Claim', 'NumberOfCars', 'Year', 'BasePolicy'],\n",
    "                    drop_first=True)"
   ]
  },
  {
   "cell_type": "code",
   "execution_count": 75,
   "id": "7bd11876",
   "metadata": {},
   "outputs": [
    {
     "data": {
      "text/plain": [
       "(15100, 135)"
      ]
     },
     "execution_count": 75,
     "metadata": {},
     "output_type": "execute_result"
    }
   ],
   "source": [
    "df.shape"
   ]
  },
  {
   "cell_type": "markdown",
   "id": "c0d8fd1d",
   "metadata": {},
   "source": [
    "#### Dividimos en train y test. (Split between train and test)"
   ]
  },
  {
   "cell_type": "code",
   "execution_count": 76,
   "id": "621e5377",
   "metadata": {},
   "outputs": [
    {
     "data": {
      "text/plain": [
       "(10570, 134)"
      ]
     },
     "metadata": {},
     "output_type": "display_data"
    },
    {
     "data": {
      "text/plain": [
       "(4530, 134)"
      ]
     },
     "metadata": {},
     "output_type": "display_data"
    },
    {
     "data": {
      "text/plain": [
       "(10570,)"
      ]
     },
     "metadata": {},
     "output_type": "display_data"
    },
    {
     "data": {
      "text/plain": [
       "(4530,)"
      ]
     },
     "metadata": {},
     "output_type": "display_data"
    }
   ],
   "source": [
    "X=df.drop(columns=['FraudFound_P'])\n",
    "y=df['FraudFound_P']\n",
    "\n",
    "X_train, X_test, y_train, y_test = train_test_split(X, y, test_size=0.3, random_state=137, stratify=y)\n",
    "display(X_train.shape, X_test.shape, y_train.shape, y_test.shape)"
   ]
  },
  {
   "cell_type": "markdown",
   "id": "7e184ace",
   "metadata": {},
   "source": [
    "#### Realizamos un oversampling para resolver el desbalance de la feature a predecir. (Use oversampling to balance the variable to predict)"
   ]
  },
  {
   "cell_type": "code",
   "execution_count": 77,
   "id": "f038c3da",
   "metadata": {},
   "outputs": [
    {
     "data": {
      "text/plain": [
       "(19892, 134)"
      ]
     },
     "metadata": {},
     "output_type": "display_data"
    },
    {
     "data": {
      "text/plain": [
       "(4530, 134)"
      ]
     },
     "metadata": {},
     "output_type": "display_data"
    },
    {
     "data": {
      "text/plain": [
       "(19892,)"
      ]
     },
     "metadata": {},
     "output_type": "display_data"
    },
    {
     "data": {
      "text/plain": [
       "(4530,)"
      ]
     },
     "metadata": {},
     "output_type": "display_data"
    }
   ],
   "source": [
    "oversampler = RandomOverSampler(sampling_strategy='minority', random_state=137)\n",
    "X_train_os, y_train_os = oversampler.fit_resample(X_train, y_train)\n",
    "display(X_train_os.shape, X_test.shape, y_train_os.shape, y_test.shape)"
   ]
  },
  {
   "cell_type": "markdown",
   "id": "59f56e4c",
   "metadata": {},
   "source": [
    "Creamos los folds para Cross Validation\n",
    "\n",
    "Make the folds for Cross Validation"
   ]
  },
  {
   "cell_type": "code",
   "execution_count": 78,
   "id": "5407cd38",
   "metadata": {
    "tags": []
   },
   "outputs": [],
   "source": [
    "folds = StratifiedKFold(n_splits=5, random_state=137, shuffle=True)"
   ]
  },
  {
   "cell_type": "markdown",
   "id": "a2924739",
   "metadata": {},
   "source": [
    "Creamos el Pipeline y sus pasos\n",
    "\n",
    "Create a pipeline and its steps"
   ]
  },
  {
   "cell_type": "code",
   "execution_count": 79,
   "id": "85d533d0",
   "metadata": {},
   "outputs": [],
   "source": [
    "pasos = [('procesamiento', StandardScaler(with_mean=False)),\n",
    "         ('clasificador', XGBClassifier(n_jobs=-1, use_label_encoder=False, random_state=137))]\n",
    "\n",
    "pipe = Pipeline(pasos)"
   ]
  },
  {
   "cell_type": "markdown",
   "id": "12e68c48",
   "metadata": {},
   "source": [
    "Creamos las grilla de parámetros para el Grid Search\n",
    "\n",
    "Create the grid and the parameters for the Grid Search"
   ]
  },
  {
   "cell_type": "code",
   "execution_count": 80,
   "id": "2ae58745",
   "metadata": {},
   "outputs": [],
   "source": [
    "param_grid = [\n",
    "    {\n",
    "        \"clasificador__n_estimators\" : [50, 100, 150],\n",
    "        \"clasificador__learning_rate\" : [0.05, 0.1, 0.2],\n",
    "        \"clasificador__colsample_bytree\" : [0.5, 1],\n",
    "        \"clasificador__num_leaves\" : [31, 45, 62],\n",
    "        \"clasificador__reg_alpha\" : [0, 0.5],\n",
    "        \"clasificador\": [lgb.LGBMClassifier(random_state=137)]\n",
    "    },\n",
    "    {\n",
    "        \"clasificador__n_estimators\" : [50, 100, 150],\n",
    "        \"clasificador__learning_rate\" : [0.05, 0.1, 0.2],\n",
    "        \"clasificador__subsample\" : [0.5, 1],\n",
    "        \"clasificador__max_depth\" : [3, 4, 6],\n",
    "        \"clasificador\": [GradientBoostingClassifier(random_state=137)]\n",
    "    },\n",
    "    {\n",
    "        \"clasificador__n_estimators\" : [50, 100, 150],\n",
    "        \"clasificador__learning_rate\" : [0.05, 0.1, 0.2],\n",
    "        \"clasificador__max_depth\" : [3, 4, 6],\n",
    "    }\n",
    "]"
   ]
  },
  {
   "cell_type": "markdown",
   "id": "72a0a828",
   "metadata": {},
   "source": [
    "### Fiteamos el modelo (Fit the model)"
   ]
  },
  {
   "cell_type": "code",
   "execution_count": 81,
   "id": "3d3c70f6",
   "metadata": {},
   "outputs": [
    {
     "name": "stdout",
     "output_type": "stream",
     "text": [
      "[18:18:38] WARNING: D:\\bld\\xgboost-split_1645118015404\\work\\src\\learner.cc:1115: Starting in XGBoost 1.3.0, the default evaluation metric used with the objective 'binary:logistic' was changed from 'error' to 'logloss'. Explicitly set eval_metric if you'd like to restore the old behavior.\n",
      "[18:18:39] WARNING: D:\\bld\\xgboost-split_1645118015404\\work\\src\\learner.cc:1115: Starting in XGBoost 1.3.0, the default evaluation metric used with the objective 'binary:logistic' was changed from 'error' to 'logloss'. Explicitly set eval_metric if you'd like to restore the old behavior.\n",
      "[18:18:40] WARNING: D:\\bld\\xgboost-split_1645118015404\\work\\src\\learner.cc:1115: Starting in XGBoost 1.3.0, the default evaluation metric used with the objective 'binary:logistic' was changed from 'error' to 'logloss'. Explicitly set eval_metric if you'd like to restore the old behavior.\n",
      "[18:18:41] WARNING: D:\\bld\\xgboost-split_1645118015404\\work\\src\\learner.cc:1115: Starting in XGBoost 1.3.0, the default evaluation metric used with the objective 'binary:logistic' was changed from 'error' to 'logloss'. Explicitly set eval_metric if you'd like to restore the old behavior.\n",
      "[18:18:42] WARNING: D:\\bld\\xgboost-split_1645118015404\\work\\src\\learner.cc:1115: Starting in XGBoost 1.3.0, the default evaluation metric used with the objective 'binary:logistic' was changed from 'error' to 'logloss'. Explicitly set eval_metric if you'd like to restore the old behavior.\n",
      "[18:18:43] WARNING: D:\\bld\\xgboost-split_1645118015404\\work\\src\\learner.cc:1115: Starting in XGBoost 1.3.0, the default evaluation metric used with the objective 'binary:logistic' was changed from 'error' to 'logloss'. Explicitly set eval_metric if you'd like to restore the old behavior.\n",
      "[18:18:44] WARNING: D:\\bld\\xgboost-split_1645118015404\\work\\src\\learner.cc:1115: Starting in XGBoost 1.3.0, the default evaluation metric used with the objective 'binary:logistic' was changed from 'error' to 'logloss'. Explicitly set eval_metric if you'd like to restore the old behavior.\n",
      "[18:18:46] WARNING: D:\\bld\\xgboost-split_1645118015404\\work\\src\\learner.cc:1115: Starting in XGBoost 1.3.0, the default evaluation metric used with the objective 'binary:logistic' was changed from 'error' to 'logloss'. Explicitly set eval_metric if you'd like to restore the old behavior.\n",
      "[18:18:47] WARNING: D:\\bld\\xgboost-split_1645118015404\\work\\src\\learner.cc:1115: Starting in XGBoost 1.3.0, the default evaluation metric used with the objective 'binary:logistic' was changed from 'error' to 'logloss'. Explicitly set eval_metric if you'd like to restore the old behavior.\n",
      "[18:18:49] WARNING: D:\\bld\\xgboost-split_1645118015404\\work\\src\\learner.cc:1115: Starting in XGBoost 1.3.0, the default evaluation metric used with the objective 'binary:logistic' was changed from 'error' to 'logloss'. Explicitly set eval_metric if you'd like to restore the old behavior.\n",
      "[18:18:50] WARNING: D:\\bld\\xgboost-split_1645118015404\\work\\src\\learner.cc:1115: Starting in XGBoost 1.3.0, the default evaluation metric used with the objective 'binary:logistic' was changed from 'error' to 'logloss'. Explicitly set eval_metric if you'd like to restore the old behavior.\n",
      "[18:18:52] WARNING: D:\\bld\\xgboost-split_1645118015404\\work\\src\\learner.cc:1115: Starting in XGBoost 1.3.0, the default evaluation metric used with the objective 'binary:logistic' was changed from 'error' to 'logloss'. Explicitly set eval_metric if you'd like to restore the old behavior.\n",
      "[18:18:54] WARNING: D:\\bld\\xgboost-split_1645118015404\\work\\src\\learner.cc:1115: Starting in XGBoost 1.3.0, the default evaluation metric used with the objective 'binary:logistic' was changed from 'error' to 'logloss'. Explicitly set eval_metric if you'd like to restore the old behavior.\n",
      "[18:18:56] WARNING: D:\\bld\\xgboost-split_1645118015404\\work\\src\\learner.cc:1115: Starting in XGBoost 1.3.0, the default evaluation metric used with the objective 'binary:logistic' was changed from 'error' to 'logloss'. Explicitly set eval_metric if you'd like to restore the old behavior.\n",
      "[18:18:58] WARNING: D:\\bld\\xgboost-split_1645118015404\\work\\src\\learner.cc:1115: Starting in XGBoost 1.3.0, the default evaluation metric used with the objective 'binary:logistic' was changed from 'error' to 'logloss'. Explicitly set eval_metric if you'd like to restore the old behavior.\n",
      "[18:19:00] WARNING: D:\\bld\\xgboost-split_1645118015404\\work\\src\\learner.cc:1115: Starting in XGBoost 1.3.0, the default evaluation metric used with the objective 'binary:logistic' was changed from 'error' to 'logloss'. Explicitly set eval_metric if you'd like to restore the old behavior.\n",
      "[18:19:01] WARNING: D:\\bld\\xgboost-split_1645118015404\\work\\src\\learner.cc:1115: Starting in XGBoost 1.3.0, the default evaluation metric used with the objective 'binary:logistic' was changed from 'error' to 'logloss'. Explicitly set eval_metric if you'd like to restore the old behavior.\n",
      "[18:19:02] WARNING: D:\\bld\\xgboost-split_1645118015404\\work\\src\\learner.cc:1115: Starting in XGBoost 1.3.0, the default evaluation metric used with the objective 'binary:logistic' was changed from 'error' to 'logloss'. Explicitly set eval_metric if you'd like to restore the old behavior.\n",
      "[18:19:03] WARNING: D:\\bld\\xgboost-split_1645118015404\\work\\src\\learner.cc:1115: Starting in XGBoost 1.3.0, the default evaluation metric used with the objective 'binary:logistic' was changed from 'error' to 'logloss'. Explicitly set eval_metric if you'd like to restore the old behavior.\n",
      "[18:19:04] WARNING: D:\\bld\\xgboost-split_1645118015404\\work\\src\\learner.cc:1115: Starting in XGBoost 1.3.0, the default evaluation metric used with the objective 'binary:logistic' was changed from 'error' to 'logloss'. Explicitly set eval_metric if you'd like to restore the old behavior.\n",
      "[18:19:04] WARNING: D:\\bld\\xgboost-split_1645118015404\\work\\src\\learner.cc:1115: Starting in XGBoost 1.3.0, the default evaluation metric used with the objective 'binary:logistic' was changed from 'error' to 'logloss'. Explicitly set eval_metric if you'd like to restore the old behavior.\n",
      "[18:19:06] WARNING: D:\\bld\\xgboost-split_1645118015404\\work\\src\\learner.cc:1115: Starting in XGBoost 1.3.0, the default evaluation metric used with the objective 'binary:logistic' was changed from 'error' to 'logloss'. Explicitly set eval_metric if you'd like to restore the old behavior.\n",
      "[18:19:08] WARNING: D:\\bld\\xgboost-split_1645118015404\\work\\src\\learner.cc:1115: Starting in XGBoost 1.3.0, the default evaluation metric used with the objective 'binary:logistic' was changed from 'error' to 'logloss'. Explicitly set eval_metric if you'd like to restore the old behavior.\n",
      "[18:19:09] WARNING: D:\\bld\\xgboost-split_1645118015404\\work\\src\\learner.cc:1115: Starting in XGBoost 1.3.0, the default evaluation metric used with the objective 'binary:logistic' was changed from 'error' to 'logloss'. Explicitly set eval_metric if you'd like to restore the old behavior.\n",
      "[18:19:11] WARNING: D:\\bld\\xgboost-split_1645118015404\\work\\src\\learner.cc:1115: Starting in XGBoost 1.3.0, the default evaluation metric used with the objective 'binary:logistic' was changed from 'error' to 'logloss'. Explicitly set eval_metric if you'd like to restore the old behavior.\n",
      "[18:19:13] WARNING: D:\\bld\\xgboost-split_1645118015404\\work\\src\\learner.cc:1115: Starting in XGBoost 1.3.0, the default evaluation metric used with the objective 'binary:logistic' was changed from 'error' to 'logloss'. Explicitly set eval_metric if you'd like to restore the old behavior.\n",
      "[18:19:15] WARNING: D:\\bld\\xgboost-split_1645118015404\\work\\src\\learner.cc:1115: Starting in XGBoost 1.3.0, the default evaluation metric used with the objective 'binary:logistic' was changed from 'error' to 'logloss'. Explicitly set eval_metric if you'd like to restore the old behavior.\n",
      "[18:19:17] WARNING: D:\\bld\\xgboost-split_1645118015404\\work\\src\\learner.cc:1115: Starting in XGBoost 1.3.0, the default evaluation metric used with the objective 'binary:logistic' was changed from 'error' to 'logloss'. Explicitly set eval_metric if you'd like to restore the old behavior.\n",
      "[18:19:20] WARNING: D:\\bld\\xgboost-split_1645118015404\\work\\src\\learner.cc:1115: Starting in XGBoost 1.3.0, the default evaluation metric used with the objective 'binary:logistic' was changed from 'error' to 'logloss'. Explicitly set eval_metric if you'd like to restore the old behavior.\n",
      "[18:19:22] WARNING: D:\\bld\\xgboost-split_1645118015404\\work\\src\\learner.cc:1115: Starting in XGBoost 1.3.0, the default evaluation metric used with the objective 'binary:logistic' was changed from 'error' to 'logloss'. Explicitly set eval_metric if you'd like to restore the old behavior.\n",
      "[18:19:24] WARNING: D:\\bld\\xgboost-split_1645118015404\\work\\src\\learner.cc:1115: Starting in XGBoost 1.3.0, the default evaluation metric used with the objective 'binary:logistic' was changed from 'error' to 'logloss'. Explicitly set eval_metric if you'd like to restore the old behavior.\n",
      "[18:19:26] WARNING: D:\\bld\\xgboost-split_1645118015404\\work\\src\\learner.cc:1115: Starting in XGBoost 1.3.0, the default evaluation metric used with the objective 'binary:logistic' was changed from 'error' to 'logloss'. Explicitly set eval_metric if you'd like to restore the old behavior.\n",
      "[18:19:27] WARNING: D:\\bld\\xgboost-split_1645118015404\\work\\src\\learner.cc:1115: Starting in XGBoost 1.3.0, the default evaluation metric used with the objective 'binary:logistic' was changed from 'error' to 'logloss'. Explicitly set eval_metric if you'd like to restore the old behavior.\n",
      "[18:19:28] WARNING: D:\\bld\\xgboost-split_1645118015404\\work\\src\\learner.cc:1115: Starting in XGBoost 1.3.0, the default evaluation metric used with the objective 'binary:logistic' was changed from 'error' to 'logloss'. Explicitly set eval_metric if you'd like to restore the old behavior.\n",
      "[18:19:30] WARNING: D:\\bld\\xgboost-split_1645118015404\\work\\src\\learner.cc:1115: Starting in XGBoost 1.3.0, the default evaluation metric used with the objective 'binary:logistic' was changed from 'error' to 'logloss'. Explicitly set eval_metric if you'd like to restore the old behavior.\n",
      "[18:19:31] WARNING: D:\\bld\\xgboost-split_1645118015404\\work\\src\\learner.cc:1115: Starting in XGBoost 1.3.0, the default evaluation metric used with the objective 'binary:logistic' was changed from 'error' to 'logloss'. Explicitly set eval_metric if you'd like to restore the old behavior.\n",
      "[18:19:33] WARNING: D:\\bld\\xgboost-split_1645118015404\\work\\src\\learner.cc:1115: Starting in XGBoost 1.3.0, the default evaluation metric used with the objective 'binary:logistic' was changed from 'error' to 'logloss'. Explicitly set eval_metric if you'd like to restore the old behavior.\n",
      "[18:19:36] WARNING: D:\\bld\\xgboost-split_1645118015404\\work\\src\\learner.cc:1115: Starting in XGBoost 1.3.0, the default evaluation metric used with the objective 'binary:logistic' was changed from 'error' to 'logloss'. Explicitly set eval_metric if you'd like to restore the old behavior.\n",
      "[18:19:38] WARNING: D:\\bld\\xgboost-split_1645118015404\\work\\src\\learner.cc:1115: Starting in XGBoost 1.3.0, the default evaluation metric used with the objective 'binary:logistic' was changed from 'error' to 'logloss'. Explicitly set eval_metric if you'd like to restore the old behavior.\n",
      "[18:19:40] WARNING: D:\\bld\\xgboost-split_1645118015404\\work\\src\\learner.cc:1115: Starting in XGBoost 1.3.0, the default evaluation metric used with the objective 'binary:logistic' was changed from 'error' to 'logloss'. Explicitly set eval_metric if you'd like to restore the old behavior.\n",
      "[18:19:43] WARNING: D:\\bld\\xgboost-split_1645118015404\\work\\src\\learner.cc:1115: Starting in XGBoost 1.3.0, the default evaluation metric used with the objective 'binary:logistic' was changed from 'error' to 'logloss'. Explicitly set eval_metric if you'd like to restore the old behavior.\n",
      "[18:19:47] WARNING: D:\\bld\\xgboost-split_1645118015404\\work\\src\\learner.cc:1115: Starting in XGBoost 1.3.0, the default evaluation metric used with the objective 'binary:logistic' was changed from 'error' to 'logloss'. Explicitly set eval_metric if you'd like to restore the old behavior.\n",
      "[18:19:50] WARNING: D:\\bld\\xgboost-split_1645118015404\\work\\src\\learner.cc:1115: Starting in XGBoost 1.3.0, the default evaluation metric used with the objective 'binary:logistic' was changed from 'error' to 'logloss'. Explicitly set eval_metric if you'd like to restore the old behavior.\n",
      "[18:19:54] WARNING: D:\\bld\\xgboost-split_1645118015404\\work\\src\\learner.cc:1115: Starting in XGBoost 1.3.0, the default evaluation metric used with the objective 'binary:logistic' was changed from 'error' to 'logloss'. Explicitly set eval_metric if you'd like to restore the old behavior.\n",
      "[18:19:57] WARNING: D:\\bld\\xgboost-split_1645118015404\\work\\src\\learner.cc:1115: Starting in XGBoost 1.3.0, the default evaluation metric used with the objective 'binary:logistic' was changed from 'error' to 'logloss'. Explicitly set eval_metric if you'd like to restore the old behavior.\n",
      "[18:20:01] WARNING: D:\\bld\\xgboost-split_1645118015404\\work\\src\\learner.cc:1115: Starting in XGBoost 1.3.0, the default evaluation metric used with the objective 'binary:logistic' was changed from 'error' to 'logloss'. Explicitly set eval_metric if you'd like to restore the old behavior.\n",
      "[18:20:02] WARNING: D:\\bld\\xgboost-split_1645118015404\\work\\src\\learner.cc:1115: Starting in XGBoost 1.3.0, the default evaluation metric used with the objective 'binary:logistic' was changed from 'error' to 'logloss'. Explicitly set eval_metric if you'd like to restore the old behavior.\n",
      "[18:20:03] WARNING: D:\\bld\\xgboost-split_1645118015404\\work\\src\\learner.cc:1115: Starting in XGBoost 1.3.0, the default evaluation metric used with the objective 'binary:logistic' was changed from 'error' to 'logloss'. Explicitly set eval_metric if you'd like to restore the old behavior.\n",
      "[18:20:03] WARNING: D:\\bld\\xgboost-split_1645118015404\\work\\src\\learner.cc:1115: Starting in XGBoost 1.3.0, the default evaluation metric used with the objective 'binary:logistic' was changed from 'error' to 'logloss'. Explicitly set eval_metric if you'd like to restore the old behavior.\n",
      "[18:20:04] WARNING: D:\\bld\\xgboost-split_1645118015404\\work\\src\\learner.cc:1115: Starting in XGBoost 1.3.0, the default evaluation metric used with the objective 'binary:logistic' was changed from 'error' to 'logloss'. Explicitly set eval_metric if you'd like to restore the old behavior.\n",
      "[18:20:05] WARNING: D:\\bld\\xgboost-split_1645118015404\\work\\src\\learner.cc:1115: Starting in XGBoost 1.3.0, the default evaluation metric used with the objective 'binary:logistic' was changed from 'error' to 'logloss'. Explicitly set eval_metric if you'd like to restore the old behavior.\n",
      "[18:20:06] WARNING: D:\\bld\\xgboost-split_1645118015404\\work\\src\\learner.cc:1115: Starting in XGBoost 1.3.0, the default evaluation metric used with the objective 'binary:logistic' was changed from 'error' to 'logloss'. Explicitly set eval_metric if you'd like to restore the old behavior.\n",
      "[18:20:08] WARNING: D:\\bld\\xgboost-split_1645118015404\\work\\src\\learner.cc:1115: Starting in XGBoost 1.3.0, the default evaluation metric used with the objective 'binary:logistic' was changed from 'error' to 'logloss'. Explicitly set eval_metric if you'd like to restore the old behavior.\n",
      "[18:20:09] WARNING: D:\\bld\\xgboost-split_1645118015404\\work\\src\\learner.cc:1115: Starting in XGBoost 1.3.0, the default evaluation metric used with the objective 'binary:logistic' was changed from 'error' to 'logloss'. Explicitly set eval_metric if you'd like to restore the old behavior.\n",
      "[18:20:10] WARNING: D:\\bld\\xgboost-split_1645118015404\\work\\src\\learner.cc:1115: Starting in XGBoost 1.3.0, the default evaluation metric used with the objective 'binary:logistic' was changed from 'error' to 'logloss'. Explicitly set eval_metric if you'd like to restore the old behavior.\n",
      "[18:20:11] WARNING: D:\\bld\\xgboost-split_1645118015404\\work\\src\\learner.cc:1115: Starting in XGBoost 1.3.0, the default evaluation metric used with the objective 'binary:logistic' was changed from 'error' to 'logloss'. Explicitly set eval_metric if you'd like to restore the old behavior.\n",
      "[18:20:13] WARNING: D:\\bld\\xgboost-split_1645118015404\\work\\src\\learner.cc:1115: Starting in XGBoost 1.3.0, the default evaluation metric used with the objective 'binary:logistic' was changed from 'error' to 'logloss'. Explicitly set eval_metric if you'd like to restore the old behavior.\n",
      "[18:20:15] WARNING: D:\\bld\\xgboost-split_1645118015404\\work\\src\\learner.cc:1115: Starting in XGBoost 1.3.0, the default evaluation metric used with the objective 'binary:logistic' was changed from 'error' to 'logloss'. Explicitly set eval_metric if you'd like to restore the old behavior.\n",
      "[18:20:17] WARNING: D:\\bld\\xgboost-split_1645118015404\\work\\src\\learner.cc:1115: Starting in XGBoost 1.3.0, the default evaluation metric used with the objective 'binary:logistic' was changed from 'error' to 'logloss'. Explicitly set eval_metric if you'd like to restore the old behavior.\n",
      "[18:20:19] WARNING: D:\\bld\\xgboost-split_1645118015404\\work\\src\\learner.cc:1115: Starting in XGBoost 1.3.0, the default evaluation metric used with the objective 'binary:logistic' was changed from 'error' to 'logloss'. Explicitly set eval_metric if you'd like to restore the old behavior.\n",
      "[18:20:21] WARNING: D:\\bld\\xgboost-split_1645118015404\\work\\src\\learner.cc:1115: Starting in XGBoost 1.3.0, the default evaluation metric used with the objective 'binary:logistic' was changed from 'error' to 'logloss'. Explicitly set eval_metric if you'd like to restore the old behavior.\n",
      "[18:20:22] WARNING: D:\\bld\\xgboost-split_1645118015404\\work\\src\\learner.cc:1115: Starting in XGBoost 1.3.0, the default evaluation metric used with the objective 'binary:logistic' was changed from 'error' to 'logloss'. Explicitly set eval_metric if you'd like to restore the old behavior.\n",
      "[18:20:23] WARNING: D:\\bld\\xgboost-split_1645118015404\\work\\src\\learner.cc:1115: Starting in XGBoost 1.3.0, the default evaluation metric used with the objective 'binary:logistic' was changed from 'error' to 'logloss'. Explicitly set eval_metric if you'd like to restore the old behavior.\n",
      "[18:20:24] WARNING: D:\\bld\\xgboost-split_1645118015404\\work\\src\\learner.cc:1115: Starting in XGBoost 1.3.0, the default evaluation metric used with the objective 'binary:logistic' was changed from 'error' to 'logloss'. Explicitly set eval_metric if you'd like to restore the old behavior.\n",
      "[18:20:25] WARNING: D:\\bld\\xgboost-split_1645118015404\\work\\src\\learner.cc:1115: Starting in XGBoost 1.3.0, the default evaluation metric used with the objective 'binary:logistic' was changed from 'error' to 'logloss'. Explicitly set eval_metric if you'd like to restore the old behavior.\n",
      "[18:20:26] WARNING: D:\\bld\\xgboost-split_1645118015404\\work\\src\\learner.cc:1115: Starting in XGBoost 1.3.0, the default evaluation metric used with the objective 'binary:logistic' was changed from 'error' to 'logloss'. Explicitly set eval_metric if you'd like to restore the old behavior.\n",
      "[18:20:27] WARNING: D:\\bld\\xgboost-split_1645118015404\\work\\src\\learner.cc:1115: Starting in XGBoost 1.3.0, the default evaluation metric used with the objective 'binary:logistic' was changed from 'error' to 'logloss'. Explicitly set eval_metric if you'd like to restore the old behavior.\n",
      "[18:20:29] WARNING: D:\\bld\\xgboost-split_1645118015404\\work\\src\\learner.cc:1115: Starting in XGBoost 1.3.0, the default evaluation metric used with the objective 'binary:logistic' was changed from 'error' to 'logloss'. Explicitly set eval_metric if you'd like to restore the old behavior.\n",
      "[18:20:31] WARNING: D:\\bld\\xgboost-split_1645118015404\\work\\src\\learner.cc:1115: Starting in XGBoost 1.3.0, the default evaluation metric used with the objective 'binary:logistic' was changed from 'error' to 'logloss'. Explicitly set eval_metric if you'd like to restore the old behavior.\n",
      "[18:20:32] WARNING: D:\\bld\\xgboost-split_1645118015404\\work\\src\\learner.cc:1115: Starting in XGBoost 1.3.0, the default evaluation metric used with the objective 'binary:logistic' was changed from 'error' to 'logloss'. Explicitly set eval_metric if you'd like to restore the old behavior.\n",
      "[18:20:34] WARNING: D:\\bld\\xgboost-split_1645118015404\\work\\src\\learner.cc:1115: Starting in XGBoost 1.3.0, the default evaluation metric used with the objective 'binary:logistic' was changed from 'error' to 'logloss'. Explicitly set eval_metric if you'd like to restore the old behavior.\n",
      "[18:20:36] WARNING: D:\\bld\\xgboost-split_1645118015404\\work\\src\\learner.cc:1115: Starting in XGBoost 1.3.0, the default evaluation metric used with the objective 'binary:logistic' was changed from 'error' to 'logloss'. Explicitly set eval_metric if you'd like to restore the old behavior.\n",
      "[18:20:39] WARNING: D:\\bld\\xgboost-split_1645118015404\\work\\src\\learner.cc:1115: Starting in XGBoost 1.3.0, the default evaluation metric used with the objective 'binary:logistic' was changed from 'error' to 'logloss'. Explicitly set eval_metric if you'd like to restore the old behavior.\n",
      "[18:20:41] WARNING: D:\\bld\\xgboost-split_1645118015404\\work\\src\\learner.cc:1115: Starting in XGBoost 1.3.0, the default evaluation metric used with the objective 'binary:logistic' was changed from 'error' to 'logloss'. Explicitly set eval_metric if you'd like to restore the old behavior.\n",
      "[18:20:44] WARNING: D:\\bld\\xgboost-split_1645118015404\\work\\src\\learner.cc:1115: Starting in XGBoost 1.3.0, the default evaluation metric used with the objective 'binary:logistic' was changed from 'error' to 'logloss'. Explicitly set eval_metric if you'd like to restore the old behavior.\n",
      "[18:20:46] WARNING: D:\\bld\\xgboost-split_1645118015404\\work\\src\\learner.cc:1115: Starting in XGBoost 1.3.0, the default evaluation metric used with the objective 'binary:logistic' was changed from 'error' to 'logloss'. Explicitly set eval_metric if you'd like to restore the old behavior.\n",
      "[18:20:48] WARNING: D:\\bld\\xgboost-split_1645118015404\\work\\src\\learner.cc:1115: Starting in XGBoost 1.3.0, the default evaluation metric used with the objective 'binary:logistic' was changed from 'error' to 'logloss'. Explicitly set eval_metric if you'd like to restore the old behavior.\n",
      "[18:20:49] WARNING: D:\\bld\\xgboost-split_1645118015404\\work\\src\\learner.cc:1115: Starting in XGBoost 1.3.0, the default evaluation metric used with the objective 'binary:logistic' was changed from 'error' to 'logloss'. Explicitly set eval_metric if you'd like to restore the old behavior.\n",
      "[18:20:51] WARNING: D:\\bld\\xgboost-split_1645118015404\\work\\src\\learner.cc:1115: Starting in XGBoost 1.3.0, the default evaluation metric used with the objective 'binary:logistic' was changed from 'error' to 'logloss'. Explicitly set eval_metric if you'd like to restore the old behavior.\n",
      "[18:20:52] WARNING: D:\\bld\\xgboost-split_1645118015404\\work\\src\\learner.cc:1115: Starting in XGBoost 1.3.0, the default evaluation metric used with the objective 'binary:logistic' was changed from 'error' to 'logloss'. Explicitly set eval_metric if you'd like to restore the old behavior.\n",
      "[18:20:53] WARNING: D:\\bld\\xgboost-split_1645118015404\\work\\src\\learner.cc:1115: Starting in XGBoost 1.3.0, the default evaluation metric used with the objective 'binary:logistic' was changed from 'error' to 'logloss'. Explicitly set eval_metric if you'd like to restore the old behavior.\n",
      "[18:20:56] WARNING: D:\\bld\\xgboost-split_1645118015404\\work\\src\\learner.cc:1115: Starting in XGBoost 1.3.0, the default evaluation metric used with the objective 'binary:logistic' was changed from 'error' to 'logloss'. Explicitly set eval_metric if you'd like to restore the old behavior.\n",
      "[18:20:58] WARNING: D:\\bld\\xgboost-split_1645118015404\\work\\src\\learner.cc:1115: Starting in XGBoost 1.3.0, the default evaluation metric used with the objective 'binary:logistic' was changed from 'error' to 'logloss'. Explicitly set eval_metric if you'd like to restore the old behavior.\n",
      "[18:21:01] WARNING: D:\\bld\\xgboost-split_1645118015404\\work\\src\\learner.cc:1115: Starting in XGBoost 1.3.0, the default evaluation metric used with the objective 'binary:logistic' was changed from 'error' to 'logloss'. Explicitly set eval_metric if you'd like to restore the old behavior.\n",
      "[18:21:03] WARNING: D:\\bld\\xgboost-split_1645118015404\\work\\src\\learner.cc:1115: Starting in XGBoost 1.3.0, the default evaluation metric used with the objective 'binary:logistic' was changed from 'error' to 'logloss'. Explicitly set eval_metric if you'd like to restore the old behavior.\n",
      "[18:21:06] WARNING: D:\\bld\\xgboost-split_1645118015404\\work\\src\\learner.cc:1115: Starting in XGBoost 1.3.0, the default evaluation metric used with the objective 'binary:logistic' was changed from 'error' to 'logloss'. Explicitly set eval_metric if you'd like to restore the old behavior.\n",
      "[18:21:09] WARNING: D:\\bld\\xgboost-split_1645118015404\\work\\src\\learner.cc:1115: Starting in XGBoost 1.3.0, the default evaluation metric used with the objective 'binary:logistic' was changed from 'error' to 'logloss'. Explicitly set eval_metric if you'd like to restore the old behavior.\n",
      "[18:21:13] WARNING: D:\\bld\\xgboost-split_1645118015404\\work\\src\\learner.cc:1115: Starting in XGBoost 1.3.0, the default evaluation metric used with the objective 'binary:logistic' was changed from 'error' to 'logloss'. Explicitly set eval_metric if you'd like to restore the old behavior.\n",
      "[18:21:16] WARNING: D:\\bld\\xgboost-split_1645118015404\\work\\src\\learner.cc:1115: Starting in XGBoost 1.3.0, the default evaluation metric used with the objective 'binary:logistic' was changed from 'error' to 'logloss'. Explicitly set eval_metric if you'd like to restore the old behavior.\n",
      "[18:21:19] WARNING: D:\\bld\\xgboost-split_1645118015404\\work\\src\\learner.cc:1115: Starting in XGBoost 1.3.0, the default evaluation metric used with the objective 'binary:logistic' was changed from 'error' to 'logloss'. Explicitly set eval_metric if you'd like to restore the old behavior.\n",
      "[18:21:23] WARNING: D:\\bld\\xgboost-split_1645118015404\\work\\src\\learner.cc:1115: Starting in XGBoost 1.3.0, the default evaluation metric used with the objective 'binary:logistic' was changed from 'error' to 'logloss'. Explicitly set eval_metric if you'd like to restore the old behavior.\n",
      "[18:21:23] WARNING: D:\\bld\\xgboost-split_1645118015404\\work\\src\\learner.cc:1115: Starting in XGBoost 1.3.0, the default evaluation metric used with the objective 'binary:logistic' was changed from 'error' to 'logloss'. Explicitly set eval_metric if you'd like to restore the old behavior.\n",
      "[18:21:24] WARNING: D:\\bld\\xgboost-split_1645118015404\\work\\src\\learner.cc:1115: Starting in XGBoost 1.3.0, the default evaluation metric used with the objective 'binary:logistic' was changed from 'error' to 'logloss'. Explicitly set eval_metric if you'd like to restore the old behavior.\n",
      "[18:21:25] WARNING: D:\\bld\\xgboost-split_1645118015404\\work\\src\\learner.cc:1115: Starting in XGBoost 1.3.0, the default evaluation metric used with the objective 'binary:logistic' was changed from 'error' to 'logloss'. Explicitly set eval_metric if you'd like to restore the old behavior.\n",
      "[18:21:26] WARNING: D:\\bld\\xgboost-split_1645118015404\\work\\src\\learner.cc:1115: Starting in XGBoost 1.3.0, the default evaluation metric used with the objective 'binary:logistic' was changed from 'error' to 'logloss'. Explicitly set eval_metric if you'd like to restore the old behavior.\n",
      "[18:21:26] WARNING: D:\\bld\\xgboost-split_1645118015404\\work\\src\\learner.cc:1115: Starting in XGBoost 1.3.0, the default evaluation metric used with the objective 'binary:logistic' was changed from 'error' to 'logloss'. Explicitly set eval_metric if you'd like to restore the old behavior.\n",
      "[18:21:28] WARNING: D:\\bld\\xgboost-split_1645118015404\\work\\src\\learner.cc:1115: Starting in XGBoost 1.3.0, the default evaluation metric used with the objective 'binary:logistic' was changed from 'error' to 'logloss'. Explicitly set eval_metric if you'd like to restore the old behavior.\n",
      "[18:21:29] WARNING: D:\\bld\\xgboost-split_1645118015404\\work\\src\\learner.cc:1115: Starting in XGBoost 1.3.0, the default evaluation metric used with the objective 'binary:logistic' was changed from 'error' to 'logloss'. Explicitly set eval_metric if you'd like to restore the old behavior.\n",
      "[18:21:30] WARNING: D:\\bld\\xgboost-split_1645118015404\\work\\src\\learner.cc:1115: Starting in XGBoost 1.3.0, the default evaluation metric used with the objective 'binary:logistic' was changed from 'error' to 'logloss'. Explicitly set eval_metric if you'd like to restore the old behavior.\n",
      "[18:21:32] WARNING: D:\\bld\\xgboost-split_1645118015404\\work\\src\\learner.cc:1115: Starting in XGBoost 1.3.0, the default evaluation metric used with the objective 'binary:logistic' was changed from 'error' to 'logloss'. Explicitly set eval_metric if you'd like to restore the old behavior.\n",
      "[18:21:33] WARNING: D:\\bld\\xgboost-split_1645118015404\\work\\src\\learner.cc:1115: Starting in XGBoost 1.3.0, the default evaluation metric used with the objective 'binary:logistic' was changed from 'error' to 'logloss'. Explicitly set eval_metric if you'd like to restore the old behavior.\n",
      "[18:21:35] WARNING: D:\\bld\\xgboost-split_1645118015404\\work\\src\\learner.cc:1115: Starting in XGBoost 1.3.0, the default evaluation metric used with the objective 'binary:logistic' was changed from 'error' to 'logloss'. Explicitly set eval_metric if you'd like to restore the old behavior.\n",
      "[18:21:37] WARNING: D:\\bld\\xgboost-split_1645118015404\\work\\src\\learner.cc:1115: Starting in XGBoost 1.3.0, the default evaluation metric used with the objective 'binary:logistic' was changed from 'error' to 'logloss'. Explicitly set eval_metric if you'd like to restore the old behavior.\n",
      "[18:21:39] WARNING: D:\\bld\\xgboost-split_1645118015404\\work\\src\\learner.cc:1115: Starting in XGBoost 1.3.0, the default evaluation metric used with the objective 'binary:logistic' was changed from 'error' to 'logloss'. Explicitly set eval_metric if you'd like to restore the old behavior.\n",
      "[18:21:41] WARNING: D:\\bld\\xgboost-split_1645118015404\\work\\src\\learner.cc:1115: Starting in XGBoost 1.3.0, the default evaluation metric used with the objective 'binary:logistic' was changed from 'error' to 'logloss'. Explicitly set eval_metric if you'd like to restore the old behavior.\n",
      "[18:21:43] WARNING: D:\\bld\\xgboost-split_1645118015404\\work\\src\\learner.cc:1115: Starting in XGBoost 1.3.0, the default evaluation metric used with the objective 'binary:logistic' was changed from 'error' to 'logloss'. Explicitly set eval_metric if you'd like to restore the old behavior.\n",
      "[18:21:44] WARNING: D:\\bld\\xgboost-split_1645118015404\\work\\src\\learner.cc:1115: Starting in XGBoost 1.3.0, the default evaluation metric used with the objective 'binary:logistic' was changed from 'error' to 'logloss'. Explicitly set eval_metric if you'd like to restore the old behavior.\n",
      "[18:21:44] WARNING: D:\\bld\\xgboost-split_1645118015404\\work\\src\\learner.cc:1115: Starting in XGBoost 1.3.0, the default evaluation metric used with the objective 'binary:logistic' was changed from 'error' to 'logloss'. Explicitly set eval_metric if you'd like to restore the old behavior.\n",
      "[18:21:45] WARNING: D:\\bld\\xgboost-split_1645118015404\\work\\src\\learner.cc:1115: Starting in XGBoost 1.3.0, the default evaluation metric used with the objective 'binary:logistic' was changed from 'error' to 'logloss'. Explicitly set eval_metric if you'd like to restore the old behavior.\n",
      "[18:21:46] WARNING: D:\\bld\\xgboost-split_1645118015404\\work\\src\\learner.cc:1115: Starting in XGBoost 1.3.0, the default evaluation metric used with the objective 'binary:logistic' was changed from 'error' to 'logloss'. Explicitly set eval_metric if you'd like to restore the old behavior.\n",
      "[18:21:47] WARNING: D:\\bld\\xgboost-split_1645118015404\\work\\src\\learner.cc:1115: Starting in XGBoost 1.3.0, the default evaluation metric used with the objective 'binary:logistic' was changed from 'error' to 'logloss'. Explicitly set eval_metric if you'd like to restore the old behavior.\n",
      "[18:21:49] WARNING: D:\\bld\\xgboost-split_1645118015404\\work\\src\\learner.cc:1115: Starting in XGBoost 1.3.0, the default evaluation metric used with the objective 'binary:logistic' was changed from 'error' to 'logloss'. Explicitly set eval_metric if you'd like to restore the old behavior.\n",
      "[18:21:50] WARNING: D:\\bld\\xgboost-split_1645118015404\\work\\src\\learner.cc:1115: Starting in XGBoost 1.3.0, the default evaluation metric used with the objective 'binary:logistic' was changed from 'error' to 'logloss'. Explicitly set eval_metric if you'd like to restore the old behavior.\n",
      "[18:21:52] WARNING: D:\\bld\\xgboost-split_1645118015404\\work\\src\\learner.cc:1115: Starting in XGBoost 1.3.0, the default evaluation metric used with the objective 'binary:logistic' was changed from 'error' to 'logloss'. Explicitly set eval_metric if you'd like to restore the old behavior.\n",
      "[18:21:54] WARNING: D:\\bld\\xgboost-split_1645118015404\\work\\src\\learner.cc:1115: Starting in XGBoost 1.3.0, the default evaluation metric used with the objective 'binary:logistic' was changed from 'error' to 'logloss'. Explicitly set eval_metric if you'd like to restore the old behavior.\n",
      "[18:21:56] WARNING: D:\\bld\\xgboost-split_1645118015404\\work\\src\\learner.cc:1115: Starting in XGBoost 1.3.0, the default evaluation metric used with the objective 'binary:logistic' was changed from 'error' to 'logloss'. Explicitly set eval_metric if you'd like to restore the old behavior.\n",
      "[18:21:58] WARNING: D:\\bld\\xgboost-split_1645118015404\\work\\src\\learner.cc:1115: Starting in XGBoost 1.3.0, the default evaluation metric used with the objective 'binary:logistic' was changed from 'error' to 'logloss'. Explicitly set eval_metric if you'd like to restore the old behavior.\n",
      "[18:22:01] WARNING: D:\\bld\\xgboost-split_1645118015404\\work\\src\\learner.cc:1115: Starting in XGBoost 1.3.0, the default evaluation metric used with the objective 'binary:logistic' was changed from 'error' to 'logloss'. Explicitly set eval_metric if you'd like to restore the old behavior.\n",
      "[18:22:03] WARNING: D:\\bld\\xgboost-split_1645118015404\\work\\src\\learner.cc:1115: Starting in XGBoost 1.3.0, the default evaluation metric used with the objective 'binary:logistic' was changed from 'error' to 'logloss'. Explicitly set eval_metric if you'd like to restore the old behavior.\n",
      "[18:22:05] WARNING: D:\\bld\\xgboost-split_1645118015404\\work\\src\\learner.cc:1115: Starting in XGBoost 1.3.0, the default evaluation metric used with the objective 'binary:logistic' was changed from 'error' to 'logloss'. Explicitly set eval_metric if you'd like to restore the old behavior.\n",
      "[18:22:08] WARNING: D:\\bld\\xgboost-split_1645118015404\\work\\src\\learner.cc:1115: Starting in XGBoost 1.3.0, the default evaluation metric used with the objective 'binary:logistic' was changed from 'error' to 'logloss'. Explicitly set eval_metric if you'd like to restore the old behavior.\n",
      "[18:22:10] WARNING: D:\\bld\\xgboost-split_1645118015404\\work\\src\\learner.cc:1115: Starting in XGBoost 1.3.0, the default evaluation metric used with the objective 'binary:logistic' was changed from 'error' to 'logloss'. Explicitly set eval_metric if you'd like to restore the old behavior.\n",
      "[18:22:11] WARNING: D:\\bld\\xgboost-split_1645118015404\\work\\src\\learner.cc:1115: Starting in XGBoost 1.3.0, the default evaluation metric used with the objective 'binary:logistic' was changed from 'error' to 'logloss'. Explicitly set eval_metric if you'd like to restore the old behavior.\n",
      "[18:22:12] WARNING: D:\\bld\\xgboost-split_1645118015404\\work\\src\\learner.cc:1115: Starting in XGBoost 1.3.0, the default evaluation metric used with the objective 'binary:logistic' was changed from 'error' to 'logloss'. Explicitly set eval_metric if you'd like to restore the old behavior.\n",
      "[18:22:14] WARNING: D:\\bld\\xgboost-split_1645118015404\\work\\src\\learner.cc:1115: Starting in XGBoost 1.3.0, the default evaluation metric used with the objective 'binary:logistic' was changed from 'error' to 'logloss'. Explicitly set eval_metric if you'd like to restore the old behavior.\n",
      "[18:22:15] WARNING: D:\\bld\\xgboost-split_1645118015404\\work\\src\\learner.cc:1115: Starting in XGBoost 1.3.0, the default evaluation metric used with the objective 'binary:logistic' was changed from 'error' to 'logloss'. Explicitly set eval_metric if you'd like to restore the old behavior.\n",
      "[18:22:18] WARNING: D:\\bld\\xgboost-split_1645118015404\\work\\src\\learner.cc:1115: Starting in XGBoost 1.3.0, the default evaluation metric used with the objective 'binary:logistic' was changed from 'error' to 'logloss'. Explicitly set eval_metric if you'd like to restore the old behavior.\n",
      "[18:22:20] WARNING: D:\\bld\\xgboost-split_1645118015404\\work\\src\\learner.cc:1115: Starting in XGBoost 1.3.0, the default evaluation metric used with the objective 'binary:logistic' was changed from 'error' to 'logloss'. Explicitly set eval_metric if you'd like to restore the old behavior.\n",
      "[18:22:22] WARNING: D:\\bld\\xgboost-split_1645118015404\\work\\src\\learner.cc:1115: Starting in XGBoost 1.3.0, the default evaluation metric used with the objective 'binary:logistic' was changed from 'error' to 'logloss'. Explicitly set eval_metric if you'd like to restore the old behavior.\n",
      "[18:22:25] WARNING: D:\\bld\\xgboost-split_1645118015404\\work\\src\\learner.cc:1115: Starting in XGBoost 1.3.0, the default evaluation metric used with the objective 'binary:logistic' was changed from 'error' to 'logloss'. Explicitly set eval_metric if you'd like to restore the old behavior.\n",
      "[18:22:27] WARNING: D:\\bld\\xgboost-split_1645118015404\\work\\src\\learner.cc:1115: Starting in XGBoost 1.3.0, the default evaluation metric used with the objective 'binary:logistic' was changed from 'error' to 'logloss'. Explicitly set eval_metric if you'd like to restore the old behavior.\n",
      "[18:22:31] WARNING: D:\\bld\\xgboost-split_1645118015404\\work\\src\\learner.cc:1115: Starting in XGBoost 1.3.0, the default evaluation metric used with the objective 'binary:logistic' was changed from 'error' to 'logloss'. Explicitly set eval_metric if you'd like to restore the old behavior.\n",
      "[18:22:34] WARNING: D:\\bld\\xgboost-split_1645118015404\\work\\src\\learner.cc:1115: Starting in XGBoost 1.3.0, the default evaluation metric used with the objective 'binary:logistic' was changed from 'error' to 'logloss'. Explicitly set eval_metric if you'd like to restore the old behavior.\n",
      "[18:22:37] WARNING: D:\\bld\\xgboost-split_1645118015404\\work\\src\\learner.cc:1115: Starting in XGBoost 1.3.0, the default evaluation metric used with the objective 'binary:logistic' was changed from 'error' to 'logloss'. Explicitly set eval_metric if you'd like to restore the old behavior.\n",
      "[18:22:41] WARNING: D:\\bld\\xgboost-split_1645118015404\\work\\src\\learner.cc:1115: Starting in XGBoost 1.3.0, the default evaluation metric used with the objective 'binary:logistic' was changed from 'error' to 'logloss'. Explicitly set eval_metric if you'd like to restore the old behavior.\n"
     ]
    },
    {
     "data": {
      "text/plain": [
       "GridSearchCV(cv=StratifiedKFold(n_splits=5, random_state=137, shuffle=True),\n",
       "             estimator=Pipeline(steps=[('procesamiento',\n",
       "                                        StandardScaler(with_mean=False)),\n",
       "                                       ('clasificador',\n",
       "                                        XGBClassifier(base_score=None,\n",
       "                                                      booster=None,\n",
       "                                                      colsample_bylevel=None,\n",
       "                                                      colsample_bynode=None,\n",
       "                                                      colsample_bytree=None,\n",
       "                                                      enable_categorical=False,\n",
       "                                                      gamma=None, gpu_id=None,\n",
       "                                                      importance_type=None,\n",
       "                                                      inter...\n",
       "                          'clasificador__reg_alpha': [0, 0.5]},\n",
       "                         {'clasificador': [GradientBoostingClassifier(random_state=137)],\n",
       "                          'clasificador__learning_rate': [0.05, 0.1, 0.2],\n",
       "                          'clasificador__max_depth': [3, 4, 6],\n",
       "                          'clasificador__n_estimators': [50, 100, 150],\n",
       "                          'clasificador__subsample': [0.5, 1]},\n",
       "                         {'clasificador__learning_rate': [0.05, 0.1, 0.2],\n",
       "                          'clasificador__max_depth': [3, 4, 6],\n",
       "                          'clasificador__n_estimators': [50, 100, 150]}])"
      ]
     },
     "execution_count": 81,
     "metadata": {},
     "output_type": "execute_result"
    }
   ],
   "source": [
    "\n",
    "pipe_grid = GridSearchCV(pipe, param_grid, cv=folds)\n",
    "pipe_grid.fit(X_train_os, y_train_os)"
   ]
  },
  {
   "cell_type": "markdown",
   "id": "b11d820f",
   "metadata": {},
   "source": [
    "Vemos cual fue el mejor estimador.\n",
    "\n",
    "Take a look at the best estimator."
   ]
  },
  {
   "cell_type": "code",
   "execution_count": 82,
   "id": "a804f4ae",
   "metadata": {},
   "outputs": [
    {
     "data": {
      "text/plain": [
       "Pipeline(steps=[('procesamiento', StandardScaler(with_mean=False)),\n",
       "                ('clasificador',\n",
       "                 LGBMClassifier(colsample_bytree=1, learning_rate=0.2,\n",
       "                                n_estimators=150, num_leaves=62,\n",
       "                                random_state=137, reg_alpha=0))])"
      ]
     },
     "execution_count": 82,
     "metadata": {},
     "output_type": "execute_result"
    }
   ],
   "source": [
    "pipe_grid.best_estimator_"
   ]
  },
  {
   "cell_type": "markdown",
   "id": "b0016ce6",
   "metadata": {},
   "source": [
    "Vemos en una tabla para cuales fueron los mejores predictores.\n",
    "\n",
    "Make a table to take a look at the best predictors."
   ]
  },
  {
   "cell_type": "code",
   "execution_count": 83,
   "id": "da91620a",
   "metadata": {},
   "outputs": [
    {
     "data": {
      "text/html": [
       "<div>\n",
       "<style scoped>\n",
       "    .dataframe tbody tr th:only-of-type {\n",
       "        vertical-align: middle;\n",
       "    }\n",
       "\n",
       "    .dataframe tbody tr th {\n",
       "        vertical-align: top;\n",
       "    }\n",
       "\n",
       "    .dataframe thead th {\n",
       "        text-align: right;\n",
       "    }\n",
       "</style>\n",
       "<table border=\"1\" class=\"dataframe\">\n",
       "  <thead>\n",
       "    <tr style=\"text-align: right;\">\n",
       "      <th></th>\n",
       "      <th>rank_test_score</th>\n",
       "      <th>mean_test_score</th>\n",
       "      <th>param_clasificador</th>\n",
       "    </tr>\n",
       "  </thead>\n",
       "  <tbody>\n",
       "    <tr>\n",
       "      <th>106</th>\n",
       "      <td>1</td>\n",
       "      <td>0.985572</td>\n",
       "      <td>LGBMClassifier(colsample_bytree=1, learning_ra...</td>\n",
       "    </tr>\n",
       "    <tr>\n",
       "      <th>52</th>\n",
       "      <td>2</td>\n",
       "      <td>0.984366</td>\n",
       "      <td>LGBMClassifier(colsample_bytree=1, learning_ra...</td>\n",
       "    </tr>\n",
       "    <tr>\n",
       "      <th>107</th>\n",
       "      <td>3</td>\n",
       "      <td>0.981500</td>\n",
       "      <td>LGBMClassifier(colsample_bytree=1, learning_ra...</td>\n",
       "    </tr>\n",
       "    <tr>\n",
       "      <th>100</th>\n",
       "      <td>4</td>\n",
       "      <td>0.979138</td>\n",
       "      <td>LGBMClassifier(colsample_bytree=1, learning_ra...</td>\n",
       "    </tr>\n",
       "    <tr>\n",
       "      <th>104</th>\n",
       "      <td>5</td>\n",
       "      <td>0.978836</td>\n",
       "      <td>LGBMClassifier(colsample_bytree=1, learning_ra...</td>\n",
       "    </tr>\n",
       "  </tbody>\n",
       "</table>\n",
       "</div>"
      ],
      "text/plain": [
       "     rank_test_score  mean_test_score  \\\n",
       "106                1         0.985572   \n",
       "52                 2         0.984366   \n",
       "107                3         0.981500   \n",
       "100                4         0.979138   \n",
       "104                5         0.978836   \n",
       "\n",
       "                                    param_clasificador  \n",
       "106  LGBMClassifier(colsample_bytree=1, learning_ra...  \n",
       "52   LGBMClassifier(colsample_bytree=1, learning_ra...  \n",
       "107  LGBMClassifier(colsample_bytree=1, learning_ra...  \n",
       "100  LGBMClassifier(colsample_bytree=1, learning_ra...  \n",
       "104  LGBMClassifier(colsample_bytree=1, learning_ra...  "
      ]
     },
     "execution_count": 83,
     "metadata": {},
     "output_type": "execute_result"
    }
   ],
   "source": [
    "df_pipe_grid = pd.DataFrame(pipe_grid.cv_results_)\n",
    "df_pipe_grid[['rank_test_score', 'mean_test_score', 'param_clasificador']].sort_values(by='rank_test_score').head()"
   ]
  },
  {
   "cell_type": "markdown",
   "id": "d36a050c",
   "metadata": {},
   "source": [
    "Vemos claramente que los mejores resultados obtenidos fueron con LightGBM.\n",
    "\n",
    "Crearly the best results were obtained with LightGBM."
   ]
  },
  {
   "cell_type": "markdown",
   "id": "1b9a7d52",
   "metadata": {},
   "source": [
    "### Analizamos la matriz de confusión y la curva ROC.\n",
    "\n",
    "Analyze the confusion matrix and the ROC curve."
   ]
  },
  {
   "cell_type": "code",
   "execution_count": 84,
   "id": "1a107fc7",
   "metadata": {},
   "outputs": [],
   "source": [
    "y_pred = pipe_grid.best_estimator_.predict(X_test)"
   ]
  },
  {
   "cell_type": "code",
   "execution_count": 85,
   "id": "041b4ca7",
   "metadata": {},
   "outputs": [
    {
     "data": {
      "image/png": "[encoded data removed]",
      "text/plain": [
       "<Figure size 360x216 with 2 Axes>"
      ]
     },
     "metadata": {
      "needs_background": "light"
     },
     "output_type": "display_data"
    }
   ],
   "source": [
    "conf_matrix = confusion_matrix(y_test, y_pred)\n",
    "\n",
    "plt.figure(figsize=(5, 3))\n",
    "sns.heatmap(conf_matrix, cmap='Blues', annot=True, fmt=\"d\");\n",
    "plt.title(\"Confusion matrix\"); plt.ylabel('True class'); plt.xlabel('Predicted class')\n",
    "plt.show()"
   ]
  },
  {
   "cell_type": "code",
   "execution_count": 86,
   "id": "9666a363",
   "metadata": {},
   "outputs": [],
   "source": [
    "y_pred_proba = pipe_grid.best_estimator_.predict_proba(X_test)\n",
    "\n",
    "fpr_log, tpr_log, thr_log = roc_curve(y_test, y_pred_proba[:,1])"
   ]
  },
  {
   "cell_type": "code",
   "execution_count": 87,
   "id": "cd3dcfbb",
   "metadata": {},
   "outputs": [
    {
     "name": "stdout",
     "output_type": "stream",
     "text": [
      "Area bajo la curva ROC: 0.8356\n"
     ]
    },
    {
     "data": {
      "image/png": "[encoded data removed]",
      "text/plain": [
       "<Figure size 360x360 with 1 Axes>"
      ]
     },
     "metadata": {
      "needs_background": "light"
     },
     "output_type": "display_data"
    }
   ],
   "source": [
    "df = pd.DataFrame(dict(fpr = fpr_log, tpr=tpr_log, thr = thr_log))\n",
    "\n",
    "print('Area bajo la curva ROC:',np.round(roc_auc_score(y_test, y_pred_proba[:,1]),4))\n",
    "\n",
    "plt.figure(figsize=(5, 5))\n",
    "plt.axis([0, 1.01, 0, 1.01])\n",
    "plt.xlabel('1 - Specificty')\n",
    "plt.ylabel('TPR / Sensitivity')\n",
    "plt.title('ROC Curve')\n",
    "plt.plot(df['fpr'],df['tpr'])\n",
    "plt.plot(np.arange(0,1, step =0.01), np.arange(0,1, step =0.01))\n",
    "plt.show()"
   ]
  },
  {
   "cell_type": "markdown",
   "id": "68008732",
   "metadata": {},
   "source": [
    "En este gráfico de curva Precision - Recall, podemos ver como perderíamos precisión en tratando de tener un mejor recall.\n",
    "\n",
    "In this Precision - Recall curve we can observe clearly how we sacrifice presition in order to get a more strict recall."
   ]
  },
  {
   "cell_type": "code",
   "execution_count": 88,
   "id": "30e538f9",
   "metadata": {},
   "outputs": [
    {
     "data": {
      "image/png": "[encoded data removed]",
      "text/plain": [
       "<Figure size 360x360 with 1 Axes>"
      ]
     },
     "metadata": {
      "needs_background": "light"
     },
     "output_type": "display_data"
    }
   ],
   "source": [
    "prec, recall, _ = precision_recall_curve(y_test, y_pred_proba[:,1], pos_label=1)\n",
    "\n",
    "plt.figure(figsize=(5, 5))\n",
    "plt.axis([0, 1.01, 0, 1.01])\n",
    "plt.xlabel('Recal')\n",
    "plt.ylabel('Precision')\n",
    "plt.title('Precision - Recall curve')\n",
    "plt.plot(prec, recall)\n",
    "plt.show()"
   ]
  },
  {
   "cell_type": "markdown",
   "id": "37337652",
   "metadata": {},
   "source": [
    "#### Evaluamos el modelo cambiando el \"Threshold\" (Lets evaluate the model, changing the Threshold)"
   ]
  },
  {
   "cell_type": "code",
   "execution_count": 89,
   "id": "5039b031",
   "metadata": {},
   "outputs": [],
   "source": [
    "def matriz(y_pred_proba, thresh):\n",
    "\n",
    "    conf_matrix = confusion_matrix(y_test, y_pred_proba)\n",
    "\n",
    "    porc_neg = round((conf_matrix[0,0] / (conf_matrix[0,0] + conf_matrix[0,1])) * 100)\n",
    "    porc_neg_text = f\"{porc_neg}% no fraudes correctos\"\n",
    "\n",
    "    porc_pos = round((conf_matrix[1,1] / (conf_matrix[1,0] + conf_matrix[1,1])) * 100)\n",
    "    \n",
    "    porc_text = f\"{porc_neg}% no fraudes predichos correctamente\\n{porc_pos}% si fraudes predichos correctamente\"\n",
    "\n",
    "    plt.figure(figsize=(5, 3))\n",
    "    sns.heatmap(conf_matrix, cmap='Blues', annot=True, fmt=\"d\");\n",
    "    plt.title(f\"Confusion matrix threshold = {thresh}\"); plt.ylabel('True class'); plt.xlabel('Predicted class')\n",
    "    plt.text(x=0.1, y=2.7, s=porc_text)#, fontsize = 22\n",
    "    plt.show\n"
   ]
  },
  {
   "cell_type": "code",
   "execution_count": 90,
   "id": "457a8a46",
   "metadata": {},
   "outputs": [
    {
     "data": {
      "image/png": "[encoded data removed]",
      "text/plain": [
       "<Figure size 360x216 with 2 Axes>"
      ]
     },
     "metadata": {
      "needs_background": "light"
     },
     "output_type": "display_data"
    },
    {
     "data": {
      "image/png": "[encoded data removed]",
      "text/plain": [
       "<Figure size 360x216 with 2 Axes>"
      ]
     },
     "metadata": {
      "needs_background": "light"
     },
     "output_type": "display_data"
    },
    {
     "data": {
      "image/png": "[encoded data removed]",
      "text/plain": [
       "<Figure size 360x216 with 2 Axes>"
      ]
     },
     "metadata": {
      "needs_background": "light"
     },
     "output_type": "display_data"
    },
    {
     "data": {
      "image/png": "[encoded data removed]",
      "text/plain": [
       "<Figure size 360x216 with 2 Axes>"
      ]
     },
     "metadata": {
      "needs_background": "light"
     },
     "output_type": "display_data"
    },
    {
     "data": {
      "image/png": "[encoded data removed]",
      "text/plain": [
       "<Figure size 360x216 with 2 Axes>"
      ]
     },
     "metadata": {
      "needs_background": "light"
     },
     "output_type": "display_data"
    },
    {
     "data": {
      "image/png": "[encoded data removed]",
      "text/plain": [
       "<Figure size 360x216 with 2 Axes>"
      ]
     },
     "metadata": {
      "needs_background": "light"
     },
     "output_type": "display_data"
    },
    {
     "data": {
      "image/png": "[encoded data removed]",
      "text/plain": [
       "<Figure size 360x216 with 2 Axes>"
      ]
     },
     "metadata": {
      "needs_background": "light"
     },
     "output_type": "display_data"
    },
    {
     "data": {
      "image/png": "[encoded data removed]",
      "text/plain": [
       "<Figure size 360x216 with 2 Axes>"
      ]
     },
     "metadata": {
      "needs_background": "light"
     },
     "output_type": "display_data"
    }
   ],
   "source": [
    "thresh_list = [0.5, 0.3, 0.1, 0.05, 0.02, 0.01, 0.005, 0.0001]\n",
    "\n",
    "for thresh in thresh_list:\n",
    "    y_pred_thresh = (y_pred_proba[:,1] >= thresh).astype(bool)\n",
    "    matriz(y_pred_thresh, thresh)\n"
   ]
  },
  {
   "cell_type": "code",
   "execution_count": 91,
   "id": "0713c4c3",
   "metadata": {},
   "outputs": [],
   "source": [
    "matrix_dict = {}\n",
    "\n",
    "thresh_list = [0.5, 0.3, 0.1, 0.05, 0.02, 0.01, 0.005, 0.0001]\n",
    "\n",
    "for thresh in thresh_list:\n",
    "    y_pred_thresh = (y_pred_proba[:,1] >= thresh).astype(bool)\n",
    "    conf_matrix = confusion_matrix(y_test, y_pred_thresh)\n",
    "\n",
    "    matrix_str = f\"Matrix Thresh {thresh}\"\n",
    "    porc_str = f\"% con Thresh {thresh}\"\n",
    "    \n",
    "    porc_neg = round((conf_matrix[0,0] / (conf_matrix[0,0] + conf_matrix[0,1])) * 100)\n",
    "    porc_neg_str = f\"{porc_neg}%\"\n",
    "\n",
    "    porc_pos = round((conf_matrix[1,1] / (conf_matrix[1,0] + conf_matrix[1,1])) * 100)\n",
    "    porc_pos_str = f\"{porc_pos}%\"\n",
    "\n",
    "    matrix_dict[matrix_str] = {\"No fraude\" : conf_matrix[0,0:],\n",
    "                                \"Si fraude\" : conf_matrix[1,0:]}\n",
    "    \n",
    "    matrix_dict[porc_str] = {\"No fraude\" : porc_neg_str,\n",
    "                                \"Si fraude\" : porc_pos_str}\n",
    "\n",
    "df_thresh = pd.DataFrame(matrix_dict)"
   ]
  },
  {
   "cell_type": "code",
   "execution_count": 92,
   "id": "de4c7ab9",
   "metadata": {},
   "outputs": [
    {
     "data": {
      "text/html": [
       "<div>\n",
       "<style scoped>\n",
       "    .dataframe tbody tr th:only-of-type {\n",
       "        vertical-align: middle;\n",
       "    }\n",
       "\n",
       "    .dataframe tbody tr th {\n",
       "        vertical-align: top;\n",
       "    }\n",
       "\n",
       "    .dataframe thead th {\n",
       "        text-align: right;\n",
       "    }\n",
       "</style>\n",
       "<table border=\"1\" class=\"dataframe\">\n",
       "  <thead>\n",
       "    <tr style=\"text-align: right;\">\n",
       "      <th></th>\n",
       "      <th>Matrix Thresh 0.5</th>\n",
       "      <th>% con Thresh 0.5</th>\n",
       "      <th>Matrix Thresh 0.3</th>\n",
       "      <th>% con Thresh 0.3</th>\n",
       "      <th>Matrix Thresh 0.1</th>\n",
       "      <th>% con Thresh 0.1</th>\n",
       "      <th>Matrix Thresh 0.05</th>\n",
       "      <th>% con Thresh 0.05</th>\n",
       "      <th>Matrix Thresh 0.02</th>\n",
       "      <th>% con Thresh 0.02</th>\n",
       "      <th>Matrix Thresh 0.01</th>\n",
       "      <th>% con Thresh 0.01</th>\n",
       "      <th>Matrix Thresh 0.005</th>\n",
       "      <th>% con Thresh 0.005</th>\n",
       "      <th>Matrix Thresh 0.0001</th>\n",
       "      <th>% con Thresh 0.0001</th>\n",
       "    </tr>\n",
       "  </thead>\n",
       "  <tbody>\n",
       "    <tr>\n",
       "      <th>No fraude</th>\n",
       "      <td>[4188, 74]</td>\n",
       "      <td>98%</td>\n",
       "      <td>[4086, 176]</td>\n",
       "      <td>96%</td>\n",
       "      <td>[3802, 460]</td>\n",
       "      <td>89%</td>\n",
       "      <td>[3589, 673]</td>\n",
       "      <td>84%</td>\n",
       "      <td>[3320, 942]</td>\n",
       "      <td>78%</td>\n",
       "      <td>[3099, 1163]</td>\n",
       "      <td>73%</td>\n",
       "      <td>[2875, 1387]</td>\n",
       "      <td>67%</td>\n",
       "      <td>[1518, 2744]</td>\n",
       "      <td>36%</td>\n",
       "    </tr>\n",
       "    <tr>\n",
       "      <th>Si fraude</th>\n",
       "      <td>[241, 27]</td>\n",
       "      <td>10%</td>\n",
       "      <td>[210, 58]</td>\n",
       "      <td>22%</td>\n",
       "      <td>[163, 105]</td>\n",
       "      <td>39%</td>\n",
       "      <td>[119, 149]</td>\n",
       "      <td>56%</td>\n",
       "      <td>[73, 195]</td>\n",
       "      <td>73%</td>\n",
       "      <td>[46, 222]</td>\n",
       "      <td>83%</td>\n",
       "      <td>[31, 237]</td>\n",
       "      <td>88%</td>\n",
       "      <td>[3, 265]</td>\n",
       "      <td>99%</td>\n",
       "    </tr>\n",
       "  </tbody>\n",
       "</table>\n",
       "</div>"
      ],
      "text/plain": [
       "          Matrix Thresh 0.5 % con Thresh 0.5 Matrix Thresh 0.3  \\\n",
       "No fraude        [4188, 74]              98%       [4086, 176]   \n",
       "Si fraude         [241, 27]              10%         [210, 58]   \n",
       "\n",
       "          % con Thresh 0.3 Matrix Thresh 0.1 % con Thresh 0.1  \\\n",
       "No fraude              96%       [3802, 460]              89%   \n",
       "Si fraude              22%        [163, 105]              39%   \n",
       "\n",
       "          Matrix Thresh 0.05 % con Thresh 0.05 Matrix Thresh 0.02  \\\n",
       "No fraude        [3589, 673]               84%        [3320, 942]   \n",
       "Si fraude         [119, 149]               56%          [73, 195]   \n",
       "\n",
       "          % con Thresh 0.02 Matrix Thresh 0.01 % con Thresh 0.01  \\\n",
       "No fraude               78%       [3099, 1163]               73%   \n",
       "Si fraude               73%          [46, 222]               83%   \n",
       "\n",
       "          Matrix Thresh 0.005 % con Thresh 0.005 Matrix Thresh 0.0001  \\\n",
       "No fraude        [2875, 1387]                67%         [1518, 2744]   \n",
       "Si fraude           [31, 237]                88%             [3, 265]   \n",
       "\n",
       "          % con Thresh 0.0001  \n",
       "No fraude                 36%  \n",
       "Si fraude                 99%  "
      ]
     },
     "execution_count": 92,
     "metadata": {},
     "output_type": "execute_result"
    }
   ],
   "source": [
    "df_thresh"
   ]
  },
  {
   "cell_type": "markdown",
   "id": "a723f172",
   "metadata": {},
   "source": [
    "Me pareció importante esta parte de los thresholds, porque podemos darle la posibilidad al encargado de elegir que tipo compromiso es el mejor, que tan importante es evitar los fraudes con respecto a perder precisión, a mi me parece que un threshold de 0.01 puede ser un buen compromiso, ya que detectamos mas de un 80% de los fraudes, y a su vez no ahorramos de investigar mas de un 70% de los casos, pero no creo que sea una decisión nuestra para tomar.\n",
    "\n",
    "I think this little theshold table is quite importat, because we can give our employer the chance to choose the best compromise, I personally think that a 0.01 threshold is quite good, because we detect moore than 80% of the frauds, an we also avoid tho investigate moore than a 70% of the claims. But I don't think it's our decision to make."
   ]
  },
  {
   "cell_type": "markdown",
   "id": "2bcb4a6d",
   "metadata": {},
   "source": [
    "# Feature Importance"
   ]
  },
  {
   "cell_type": "code",
   "execution_count": 93,
   "id": "68c588dc",
   "metadata": {},
   "outputs": [
    {
     "data": {
      "text/plain": [
       "<AxesSubplot:title={'center':'Feature importance'}, xlabel='Feature importance', ylabel='Features'>"
      ]
     },
     "execution_count": 93,
     "metadata": {},
     "output_type": "execute_result"
    },
    {
     "data": {
      "image/png": "[encoded data removed]",
      "text/plain": [
       "<Figure size 864x1584 with 1 Axes>"
      ]
     },
     "metadata": {
      "needs_background": "light"
     },
     "output_type": "display_data"
    }
   ],
   "source": [
    "lgbm_model = lgb.LGBMClassifier(colsample_bytree=0.5, learning_rate=0.2,\n",
    "                                n_estimators=150, num_leaves=62,\n",
    "                                random_state=137, reg_alpha=0)\n",
    "\n",
    "lgbm_model.fit(X_train_os, y_train_os)\n",
    "\n",
    "plt.rcParams[\"figure.figsize\"] = (12, 22)\n",
    "\n",
    "lgb.plot_importance(lgbm_model, max_num_features = 20, height=.9)"
   ]
  }
 ],
 "metadata": {
  "interpreter": {
   "hash": "9b85addb682815c777fe8611ff3117b75178bb01e96e2f07cff259d1bbe6bd1d"
  },
  "kernelspec": {
   "display_name": "Python 3.8.12 ('base')",
   "language": "python",
   "name": "python3"
  },
  "language_info": {
   "codemirror_mode": {
    "name": "ipython",
    "version": 3
   },
   "file_extension": ".py",
   "mimetype": "text/x-python",
   "name": "python",
   "nbconvert_exporter": "python",
   "pygments_lexer": "ipython3",
   "version": "3.8.12"
  }
 },
 "nbformat": 4,
 "nbformat_minor": 5
}
